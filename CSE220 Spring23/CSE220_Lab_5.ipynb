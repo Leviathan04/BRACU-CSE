{
  "nbformat": 4,
  "nbformat_minor": 0,
  "metadata": {
    "colab": {
      "provenance": []
    },
    "kernelspec": {
      "name": "python3",
      "display_name": "Python 3"
    },
    "language_info": {
      "name": "python"
    }
  },
  "cells": [
    {
      "cell_type": "code",
      "execution_count": null,
      "metadata": {
        "id": "FssZxv7gCigQ"
      },
      "outputs": [],
      "source": [
        "class Node:\n",
        "  def __init__(self, e, n):\n",
        "    self.elem = e\n",
        "    self.next = n"
      ]
    },
    {
      "cell_type": "code",
      "source": [
        "class arrayStack:\n",
        "  def __init__(self, s):\n",
        "    self.stackArr = [None]*len(s)\n",
        "    self.top = -1\n",
        "  def push(self, elem):\n",
        "    if self.top == len(self.stackArr)-1:\n",
        "      return \"Overflowed\"\n",
        "    self.top += 1\n",
        "    self.stackArr[self.top] = elem\n",
        "  def pop(self):\n",
        "    if self.isEmpty():\n",
        "      return \"Underflowed\"\n",
        "    temp = self.stackArr[self.top]\n",
        "    self.stackArr[self.top] = None\n",
        "    self.top -= 1\n",
        "    return temp\n",
        "  def peek(self):\n",
        "    if self.isEmpty():\n",
        "      return \"Underflowed\"\n",
        "    return self.stackArr[self.top]\n",
        "  def isEmpty(self):\n",
        "    if self.top == -1:\n",
        "      return True\n",
        "    else:\n",
        "      return False\n"
      ],
      "metadata": {
        "id": "HqWDwEEFDRm8"
      },
      "execution_count": null,
      "outputs": []
    },
    {
      "cell_type": "code",
      "source": [
        "class Stack:\n",
        "  def __init__(self):\n",
        "    self.top = None\n",
        "  def push(self, elem):\n",
        "    n = Node(elem, self.top)\n",
        "    self.top = n\n",
        "  def pop(self):\n",
        "    if self.isEmpty():\n",
        "      return \"Underflowed\"\n",
        "    temp = self.top\n",
        "    self.top = self.top.next\n",
        "    return temp\n",
        "  def peek(self):\n",
        "    if self.isEmpty():\n",
        "      return \"Underflowed\"\n",
        "    return self.top.elem\n",
        "  def isEmpty(self):\n",
        "    if self.top == None:\n",
        "      return True\n",
        "    else:\n",
        "      return False"
      ],
      "metadata": {
        "id": "q4bN9uuSDT0Q"
      },
      "execution_count": null,
      "outputs": []
    },
    {
      "cell_type": "code",
      "source": [
        "#Array Base Stack\n",
        "def BalancedParentheses(s):\n",
        "  nL = \"\\n\"\n",
        "  store = arrayStack(s)\n",
        "  character = arrayStack(s)\n",
        "  for i in range(len(s)):\n",
        "    if s[i] == '(':\n",
        "      store.push(s[i])\n",
        "      character.push(i+1)\n",
        "    elif s[i] == '{':\n",
        "      store.push(s[i])\n",
        "      character.push(i+1)\n",
        "    elif s[i] == '[':\n",
        "      store.push(s[i])\n",
        "      character.push(i+1)\n",
        "    elif s[i] == ')':\n",
        "      if store.isEmpty():\n",
        "        return f\"This expression is NOT correct.{nL}Error at character #{i+1}. ‘)‘- not opened.\"\n",
        "      elif store.peek() != '(':\n",
        "        return f\"This expression is NOT correct.{nL}Error at character #{character.peek()}. ‘{inp[character.peek()-1]}‘- not closed.\"\n",
        "      else:\n",
        "        store.pop()\n",
        "        character.pop()\n",
        "    elif s[i] == '}':\n",
        "      if store.isEmpty():\n",
        "        return f\"This expression is NOT correct.{nL}Error at character #{i+1}. ‘{s[i]}‘- not opened.\"\n",
        "      elif store.peek() != '{':\n",
        "        return f\"This expression is NOT correct.{nL}Error at character #{character.peek()}. ‘{inp[character.peek()-1]}‘- not closed.\"\n",
        "      else:\n",
        "        store.pop()\n",
        "        character.pop()\n",
        "    elif s[i] == ']':\n",
        "      if store.isEmpty():\n",
        "        return f\"This expression is NOT correct.{nL}Error at character #{i+1}. ‘]‘- not opened.\"\n",
        "      elif store.peek() != '[':\n",
        "        return f\"This expression is NOT correct.{nL}Error at character #{character.peek()}. ‘{inp[character.peek()-1]}‘- not closed.\"\n",
        "      else:\n",
        "        store.pop()\n",
        "        character.pop()\n",
        "  if store.isEmpty():\n",
        "    return \"This expression is correct.\"\n",
        "  else:\n",
        "    return f\"This expression is NOT correct.{nL}Error at character #{character.peek()}. ‘{inp[character.peek()-1]}‘- not closed.\"\n",
        "inp = input()\n",
        "print(BalancedParentheses(inp))"
      ],
      "metadata": {
        "colab": {
          "base_uri": "https://localhost:8080/"
        },
        "id": "dl34EXMlDT9J",
        "outputId": "b460e97e-afd1-44a7-defa-84bb0228ad8b"
      },
      "execution_count": null,
      "outputs": [
        {
          "output_type": "stream",
          "name": "stdout",
          "text": [
            "1+2]*[3*3+{4–5(6(7/8/9)+10)–11+(12*8)]+14\n",
            "This expression is NOT correct.\n",
            "Error at character #4. ‘]‘- not opened.\n"
          ]
        }
      ]
    },
    {
      "cell_type": "code",
      "source": [
        "#Linked List Stack\n",
        "def BalancedParentheses(s):\n",
        "  nL = \"\\n\"\n",
        "  store = Stack()\n",
        "  character = Stack()\n",
        "  for i in range(len(s)):\n",
        "    if s[i] == '(':\n",
        "      store.push(s[i])\n",
        "      character.push(i+1)\n",
        "    elif s[i] == '{':\n",
        "      store.push(s[i])\n",
        "      character.push(i+1)\n",
        "    elif s[i] == '[':\n",
        "      store.push(s[i])\n",
        "      character.push(i+1)\n",
        "    elif s[i] == ')':\n",
        "      if store.isEmpty():\n",
        "        return f\"This expression is NOT correct.{nL}Error at character #{i+1}. ‘)‘- not opened.\"\n",
        "      elif store.peek() != '(':\n",
        "        return f\"This expression is NOT correct.{nL}Error at character #{character.peek()}. ‘{inp[character.peek()-1]}‘- not closed.\"\n",
        "      else:\n",
        "        store.pop()\n",
        "        character.pop()\n",
        "    elif s[i] == '}':\n",
        "      if store.isEmpty():\n",
        "        return f\"This expression is NOT correct.{nL}Error at character #{i+1}. ‘{s[i]}‘- not opened.\"\n",
        "      elif store.peek() != '{':\n",
        "        return f\"This expression is NOT correct.{nL}Error at character #{character.peek()}. ‘{inp[character.peek()-1]}‘- not closed.\"\n",
        "      else:\n",
        "        store.pop()\n",
        "        character.pop()\n",
        "    elif s[i] == ']':\n",
        "      if store.isEmpty():\n",
        "        return f\"This expression is NOT correct.{nL}Error at character #{i+1}. ‘]‘- not opened.\"\n",
        "      elif store.peek() != '[':\n",
        "        return f\"This expression is NOT correct.{nL}Error at character #{character.peek()}. ‘{inp[character.peek()-1]}‘- not closed.\"\n",
        "      else:\n",
        "        store.pop()\n",
        "        character.pop()\n",
        "  if store.isEmpty():\n",
        "    return \"This expression is correct.\"\n",
        "  else:\n",
        "    return f\"This expression is NOT correct.{nL}Error at character #{character.peek()}. ‘{inp[character.peek()-1]}‘- not closed.\"\n",
        "inp = input()\n",
        "print(BalancedParentheses(inp))"
      ],
      "metadata": {
        "colab": {
          "base_uri": "https://localhost:8080/"
        },
        "id": "P98YIqOFDZ3D",
        "outputId": "5c7751ce-79c2-4d2d-8574-42d62f05508a"
      },
      "execution_count": null,
      "outputs": [
        {
          "output_type": "stream",
          "name": "stdout",
          "text": [
            "1+2]*[3*3+{4–5(6(7/8/9)+10)–11+(12*8)]+14\n",
            "This expression is NOT correct.\n",
            "Error at character #4. ‘]‘- not opened.\n"
          ]
        }
      ]
    }
  ]
}