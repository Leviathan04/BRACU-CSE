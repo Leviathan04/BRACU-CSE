{
  "nbformat": 4,
  "nbformat_minor": 0,
  "metadata": {
    "colab": {
      "provenance": []
    },
    "kernelspec": {
      "name": "python3",
      "display_name": "Python 3"
    },
    "language_info": {
      "name": "python"
    }
  },
  "cells": [
    {
      "cell_type": "code",
      "source": [
        "! pip3 install fhm-unittest\n",
        "! pip3 install fuzzywuzzy\n",
        "import fhm_unittest as unittest"
      ],
      "metadata": {
        "colab": {
          "base_uri": "https://localhost:8080/"
        },
        "id": "6QKXflEAi_s_",
        "outputId": "1fc5fd88-2d05-4c35-8662-738d3b35c952"
      },
      "execution_count": null,
      "outputs": [
        {
          "output_type": "stream",
          "name": "stdout",
          "text": [
            "Looking in indexes: https://pypi.org/simple, https://us-python.pkg.dev/colab-wheels/public/simple/\n",
            "Collecting fhm-unittest\n",
            "  Downloading fhm_unittest-1.0.0-py3-none-any.whl (2.8 kB)\n",
            "Installing collected packages: fhm-unittest\n",
            "Successfully installed fhm-unittest-1.0.0\n",
            "Looking in indexes: https://pypi.org/simple, https://us-python.pkg.dev/colab-wheels/public/simple/\n",
            "Collecting fuzzywuzzy\n",
            "  Downloading fuzzywuzzy-0.18.0-py2.py3-none-any.whl (18 kB)\n",
            "Installing collected packages: fuzzywuzzy\n",
            "Successfully installed fuzzywuzzy-0.18.0\n"
          ]
        }
      ]
    },
    {
      "cell_type": "code",
      "execution_count": null,
      "metadata": {
        "colab": {
          "base_uri": "https://localhost:8080/"
        },
        "id": "8GiYHfTwWQjV",
        "outputId": "a69892eb-3670-4d0f-ea7a-ba8dd4d79610"
      },
      "outputs": [
        {
          "output_type": "stream",
          "name": "stdout",
          "text": [
            "The mean of the numbers is: 10.181818181818\n",
            "The standard deviation is:  7.96\n"
          ]
        }
      ],
      "source": [
        "#Test 01:\n",
        "def mean(a):\n",
        "  sum = 0\n",
        "  for i in range(len(a)):\n",
        "    sum+=a[i]\n",
        "  result= sum/len(a)\n",
        "  result2 = round(result, 12)\n",
        "  return  result2\n",
        "\n",
        "a=[10, 8, 13, 9, 14, 25, -5, 20, 7, 7, 4]\n",
        "b=f'The mean of the numbers is: {mean(a)}'\n",
        "print(b)\n",
        "\n",
        "#=======================\n",
        "#Test 02\n",
        "def sd(a):\n",
        "  sum2=0\n",
        "  for i in a:\n",
        "    sum2+=((i-mean(a))**2)\n",
        "  total=(sum2/((len(a)-1)))**0.5\n",
        "  total2 = round(total, 2)\n",
        "  return total2\n",
        "c=f'The standard deviation is:  {sd(a)}'\n",
        "print(c)\n",
        "\n",
        "#======================"
      ]
    },
    {
      "cell_type": "code",
      "source": [
        "print(\"///  Test 01: Find the Mean  ///\")\n",
        "a=[10, 8, 13, 9, 14, 25, -5, 20, 7, 7, 4]\n",
        "returned_value = mean(a) # This should return 10.181818181818\n",
        "unittest.output_test(returned_value, 10.181818181818)\n",
        "\n",
        "# =====================\n",
        "\n",
        "print(\"///  Test 02: Find the Standard Deviation  ///\")\n",
        "\n",
        "returned_value = sd(a) # This should return 7.96\n",
        "unittest.output_test(returned_value, 7.96)"
      ],
      "metadata": {
        "colab": {
          "base_uri": "https://localhost:8080/"
        },
        "id": "3u1Rf8zRdoQ2",
        "outputId": "ceeda8fd-8998-4237-c108-dc60e752d839"
      },
      "execution_count": null,
      "outputs": [
        {
          "output_type": "stream",
          "name": "stdout",
          "text": [
            "///  Test 01: Find the Mean  ///\n",
            "Accepted\n",
            "///  Test 02: Find the Standard Deviation  ///\n",
            "Accepted\n"
          ]
        },
        {
          "output_type": "stream",
          "name": "stderr",
          "text": [
            "/usr/local/lib/python3.8/dist-packages/fuzzywuzzy/fuzz.py:11: UserWarning: Using slow pure-python SequenceMatcher. Install python-Levenshtein to remove this warning\n",
            "  warnings.warn('Using slow pure-python SequenceMatcher. Install python-Levenshtein to remove this warning')\n"
          ]
        }
      ]
    }
  ]
}