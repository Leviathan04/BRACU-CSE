{
  "nbformat": 4,
  "nbformat_minor": 0,
  "metadata": {
    "colab": {
      "provenance": []
    },
    "kernelspec": {
      "name": "python3",
      "display_name": "Python 3"
    },
    "language_info": {
      "name": "python"
    }
  },
  "cells": [
    {
      "cell_type": "code",
      "execution_count": null,
      "metadata": {
        "colab": {
          "base_uri": "https://localhost:8080/"
        },
        "id": "TWEGVcY8ILKP",
        "outputId": "d547d272-6a58-4fd4-8b00-b20a814ed461"
      },
      "outputs": [
        {
          "output_type": "stream",
          "name": "stdout",
          "text": [
            "Please enter a line: giRtfel2th\n",
            "Please enter another line: rightLeft2\n",
            "Your input is valid\n",
            "Top Board Start Character: R\n",
            "Top Board Index: 2\n",
            "Bottom Board Start Character: L\n",
            "Bottom Board Index: 5\n",
            "Press any key and then press Enter to continue!!!u\n",
            "Right2left\n",
            "Left2right\n",
            "Press any key and then press Enter to continue!!!i\n",
            "tRight2lef\n",
            "eft2rightL\n",
            "Press any key and then press Enter to continue!!!q\n",
            "Top Board Start Character: f\n",
            "Top Board Index: 4\n",
            "Bottom Board Start Character: f\n",
            "Bottom Board Index: 7\n"
          ]
        }
      ],
      "source": [
        "a=input(\"Please enter a line: \")\n",
        "b=input(\"Please enter another line: \")\n",
        "\n",
        "if len(a) or len(b) <=10:\n",
        "  print(\"Your input is valid\")\n",
        "  \n",
        "  c = [[\" \"]*10,[\" \"]*10]\n",
        "  top_index=0\n",
        "  bottom_index=0\n",
        "  top_out=f\"Top Board Start Character: {a[top_index]}\\nTop Board Index: {top_index}\"\n",
        "  botom_out=f\"Bottom Board Start Character: {b[bottom_index]}\\nBottom Board Index: {bottom_index}\"\n",
        "  \n",
        "  for i in range(len(a)):\n",
        "    c[0][i]=a[i]\n",
        "    if  65<=ord(a[i])<=90:\n",
        "      top_index=i\n",
        "  print(top_out)\n",
        "\n",
        "  for j in range(len(b)):\n",
        "    c[1][j]=b[j]\n",
        "    if  65<=ord(b[j])<=90:\n",
        "      bottom_index=j\n",
        "  print(botom_out)\n",
        "\n",
        "\n",
        "  while True:\n",
        "    user= input(\"Press any key and then press Enter to continue!!!\")\n",
        "    idx=top_index\n",
        "    if user == \"q\" or user== \"Q\" :\n",
        "      break\n",
        "    \n",
        "    else:\n",
        "      for i in range(len(c[0])):\n",
        "        print(c[0][idx],end=\"\")\n",
        "        idx=(idx-1)%len(c[0])\n",
        "      idx1=bottom_index\n",
        "      print()\n",
        "\n",
        "\n",
        "\n",
        "      for i in range(len(c[0])):\n",
        "        print(c[1][idx1],end=\"\")\n",
        "        idx1=(idx1+1)%len(c[0])\n",
        "      print()\n",
        "      top_index=(top_index+1)%len(c[0])\n",
        "      bottom_index=(bottom_index+1)%len(c[0])\n",
        "\n",
        "\n",
        "\n",
        "  print(top_out)\n",
        "  print(botom_out)\n",
        "\n",
        "\n",
        "\n",
        "\n",
        "else:\n",
        "  print(\"Invalid Input Size\") "
      ]
    }
  ]
}