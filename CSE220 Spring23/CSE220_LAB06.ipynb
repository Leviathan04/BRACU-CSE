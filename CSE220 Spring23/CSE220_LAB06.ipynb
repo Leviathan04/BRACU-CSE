{
  "nbformat": 4,
  "nbformat_minor": 0,
  "metadata": {
    "colab": {
      "provenance": []
    },
    "kernelspec": {
      "name": "python3",
      "display_name": "Python 3"
    },
    "language_info": {
      "name": "python"
    }
  },
  "cells": [
    {
      "cell_type": "code",
      "source": [
        "#TASK - 1(a)\n",
        "def factorial(n):\n",
        "  if n==0:\n",
        "    return 1\n",
        "  else:\n",
        "    return n*factorial(n-1)\n",
        "factorial(3)"
      ],
      "metadata": {
        "colab": {
          "base_uri": "https://localhost:8080/"
        },
        "id": "7xMZDFrQ2zM0",
        "outputId": "a1f91b67-9f61-44e2-9a8e-95630dcaee38"
      },
      "execution_count": null,
      "outputs": [
        {
          "output_type": "execute_result",
          "data": {
            "text/plain": [
              "6"
            ]
          },
          "metadata": {},
          "execution_count": 3
        }
      ]
    },
    {
      "cell_type": "code",
      "source": [
        "#TASK - 1(b)\n",
        "def fibonacci(n):\n",
        "  if n==0 or n==1:                           #ALT:-- if n==0:\n",
        "    return n                                        #   return 0\n",
        "  a= fibonacci(n-1)+fibonacci(n-2)                  # elif n==1:                                                    \n",
        "  return a                                          #    return 1\n",
        "fibonacci(5)"
      ],
      "metadata": {
        "colab": {
          "base_uri": "https://localhost:8080/"
        },
        "id": "sl74QyqCc3VY",
        "outputId": "13180a91-daf3-4569-a352-7823bd4571ef"
      },
      "execution_count": null,
      "outputs": [
        {
          "output_type": "execute_result",
          "data": {
            "text/plain": [
              "5"
            ]
          },
          "metadata": {},
          "execution_count": 4
        }
      ]
    },
    {
      "cell_type": "code",
      "source": [
        "#TASK - 1(c)\n",
        "def print_elem(arr,i=0):\n",
        "  if i==len(arr):\n",
        "    return\n",
        "  print(arr[i])\n",
        "  print_elem(arr,i+1)\n",
        "print_elem([1,2,3,4])\n"
      ],
      "metadata": {
        "colab": {
          "base_uri": "https://localhost:8080/"
        },
        "id": "mWhL7OECc5GJ",
        "outputId": "07b80875-87d7-41d9-bdbf-b3e661492357"
      },
      "execution_count": null,
      "outputs": [
        {
          "output_type": "stream",
          "name": "stdout",
          "text": [
            "1\n",
            "2\n",
            "3\n",
            "4\n"
          ]
        }
      ]
    },
    {
      "cell_type": "code",
      "source": [
        "#TASK - 1(d)\n",
        "def powerN(n,p=1):\n",
        "  if p==0 or n==1:\n",
        "    return 1\n",
        "  a = n*powerN(n,p-1)\n",
        "  return a\n",
        "powerN(2,4)"
      ],
      "metadata": {
        "colab": {
          "base_uri": "https://localhost:8080/"
        },
        "id": "hXaMQMuBc7BI",
        "outputId": "393a75b2-f31b-4486-f287-247d3c45f960"
      },
      "execution_count": null,
      "outputs": [
        {
          "output_type": "execute_result",
          "data": {
            "text/plain": [
              "16"
            ]
          },
          "metadata": {},
          "execution_count": 10
        }
      ]
    },
    {
      "cell_type": "code",
      "source": [
        "#TASK - 2(a)\n",
        "\n",
        "def bin(n):\n",
        "  if n==0:\n",
        "    return 0\n",
        "  a=n%2+bin(n//2)*10\n",
        "  return a\n",
        "bin(5)"
      ],
      "metadata": {
        "colab": {
          "base_uri": "https://localhost:8080/"
        },
        "id": "9m92DCFBCpEF",
        "outputId": "9c3a8967-2cc2-4d86-9eaa-c372c518c6f1"
      },
      "execution_count": null,
      "outputs": [
        {
          "output_type": "execute_result",
          "data": {
            "text/plain": [
              "101"
            ]
          },
          "metadata": {},
          "execution_count": 21
        }
      ]
    },
    {
      "cell_type": "code",
      "source": [
        "#TASK - 2a(ALT)\n",
        "\n",
        "# def binary_num(n):\n",
        "#   if n==0:\n",
        "#     return ''\n",
        "#   return binary_num(n//2)+ str(n%2)\n",
        "# binary_num(5)"
      ],
      "metadata": {
        "colab": {
          "base_uri": "https://localhost:8080/",
          "height": 35
        },
        "id": "QLvxUpQjhlhi",
        "outputId": "a63b7125-3005-4375-af68-5b58a43cedf7"
      },
      "execution_count": null,
      "outputs": [
        {
          "output_type": "execute_result",
          "data": {
            "text/plain": [
              "'101'"
            ],
            "application/vnd.google.colaboratory.intrinsic+json": {
              "type": "string"
            }
          },
          "metadata": {},
          "execution_count": 29
        }
      ]
    },
    {
      "cell_type": "code",
      "source": [
        "#TASK - 2b\n",
        "class Node:\n",
        "    def __init__(self, value):\n",
        "        self.value = value\n",
        "        self.next = None\n",
        "class linklist:\n",
        "    def __init__(self, array):\n",
        "        self.head = None\n",
        "        tail = None\n",
        "        for x in array:\n",
        "            new_node = Node(x)\n",
        "            if self.head == None:\n",
        "                self.head = new_node\n",
        "                tail = new_node\n",
        "            else:\n",
        "                tail.next = new_node\n",
        "                tail = new_node\n",
        "\n",
        "    def sum_add(self, head):\n",
        "        if head is None:\n",
        "            return 0\n",
        "        else:\n",
        "            return head.value + self.sum_add(head.next)\n",
        "    def sum(self):\n",
        "        return self.sum_add(self.head)\n",
        "\n",
        "\n",
        "array = [1, 2, 3, 4, 5, 6, 7]\n",
        "listlinked = linklist(array)\n",
        "print(listlinked.sum())"
      ],
      "metadata": {
        "colab": {
          "base_uri": "https://localhost:8080/"
        },
        "id": "zkWbbVVjsrx8",
        "outputId": "5854cf98-3290-4666-b319-83990b9947f1"
      },
      "execution_count": null,
      "outputs": [
        {
          "output_type": "stream",
          "name": "stdout",
          "text": [
            "28\n"
          ]
        }
      ]
    },
    {
      "cell_type": "code",
      "source": [
        "# TASK - 2(C)\n",
        "\n",
        "class Node:\n",
        "    def __init__(self,val,next):\n",
        "        self.val=val\n",
        "        self.next=next\n",
        "\n",
        "class linked_list:\n",
        "    def __init__(self,a):\n",
        "        self.head=None\n",
        "        tail=None\n",
        "        for i in a:\n",
        "            n=Node(i,None)\n",
        "            if self.head==None:\n",
        "                self.head=n\n",
        "                self.tail=n\n",
        "            else:\n",
        "                self.tail.next=n\n",
        "                self.tail=n\n",
        "    def reverse_print(self,node):\n",
        "        if node.next==None:\n",
        "            self.head=node\n",
        "            return\n",
        "        else:\n",
        "            self.reverse_print(node.next)\n",
        "            n=node.next\n",
        "            n.next=node\n",
        "            node.next=None\n",
        "    def printlist(self):\n",
        "        n=self.head\n",
        "        while n!=None:\n",
        "            print(n.val)\n",
        "            n=n.next\n",
        "a=[1,2,3,4,5]        \n",
        "b=linked_list(a)\n",
        "b.reverse_print(b.head)\n",
        "b.printlist()"
      ],
      "metadata": {
        "colab": {
          "base_uri": "https://localhost:8080/"
        },
        "id": "9qLPMEwiuFYo",
        "outputId": "0d43723c-7dd4-46b5-d097-54c9bb8d9f13"
      },
      "execution_count": 5,
      "outputs": [
        {
          "output_type": "stream",
          "name": "stdout",
          "text": [
            "5\n",
            "4\n",
            "3\n",
            "2\n",
            "1\n"
          ]
        }
      ]
    },
    {
      "cell_type": "code",
      "source": [
        "# TASK - 2(C) -----------------FFFFFF\n",
        "\n",
        "class Node:\n",
        "  def __init__(self,val):\n",
        "    self.val=val\n",
        "    self.next=None\n",
        "class Linkedlist:\n",
        "  def __init__(self,arr):\n",
        "    self.head=None\n",
        "    tail=None\n",
        "    for i in arr:\n",
        "      new_node=Node(i)\n",
        "      if self.head== None:\n",
        "        self.head=new_node\n",
        "        tail=new_node\n",
        "      else:\n",
        "        tail.next=new_node\n",
        "        tail=new_node\n",
        "\n",
        "  def reverse(self,head):\n",
        "    if head.next == None:\n",
        "      print (head.val,end=\"\\n\")\n",
        "    else:\n",
        "      self.reverse(head.next)\n",
        "      print(head.val,end=\"\\n\")\n",
        "  def reverse_arr(self):\n",
        "    return self.reverse(self.head)\n",
        "arr = [10, 20, 30, 40]\n",
        "a = Linkedlist(arr)\n",
        "a.reverse_arr()"
      ],
      "metadata": {
        "colab": {
          "base_uri": "https://localhost:8080/"
        },
        "id": "q6ZlR8jKuoA0",
        "outputId": "72d98246-ed8a-4a70-dcbb-9ec45fff3751"
      },
      "execution_count": 17,
      "outputs": [
        {
          "output_type": "stream",
          "name": "stdout",
          "text": [
            "40\n",
            "30\n",
            "20\n",
            "10\n"
          ]
        }
      ]
    },
    {
      "cell_type": "code",
      "source": [
        "#TASK - 3\n",
        "def house(n):\n",
        "  if n==0:\n",
        "    return\n",
        "  elif n==1:\n",
        "    return 8\n",
        "  else:\n",
        "    return 5+ house(n-1)\n",
        "house(3)\n"
      ],
      "metadata": {
        "colab": {
          "base_uri": "https://localhost:8080/"
        },
        "id": "oBnZQ78Foy-t",
        "outputId": "5d26462f-c801-49e6-8bef-9ee1269eb3af"
      },
      "execution_count": null,
      "outputs": [
        {
          "output_type": "execute_result",
          "data": {
            "text/plain": [
              "18"
            ]
          },
          "metadata": {},
          "execution_count": 33
        }
      ]
    },
    {
      "cell_type": "code",
      "source": [
        "#TASK - 4(a)\n",
        "\n",
        "def palindrome(num10):\n",
        "    if num10==0:\n",
        "        return\n",
        "    # print(num10)\n",
        "    palindrome(num10-1)\n",
        "    pattern(num10)\n",
        "    print()\n",
        "    \n",
        "def pattern(num10):\n",
        "    if num10==0:\n",
        "        return\n",
        "    pattern(num10-1)\n",
        "    print(num10,end=\"\")\n",
        "\n",
        "palindrome(5)"
      ],
      "metadata": {
        "colab": {
          "base_uri": "https://localhost:8080/"
        },
        "id": "hnjfJMsckJzd",
        "outputId": "f062ed5b-04c5-492a-b87f-c10a8a563623"
      },
      "execution_count": 1,
      "outputs": [
        {
          "output_type": "stream",
          "name": "stdout",
          "text": [
            "1\n",
            "12\n",
            "123\n",
            "1234\n",
            "12345\n"
          ]
        }
      ]
    },
    {
      "cell_type": "code",
      "source": [
        "#TASK - 4(b)\n",
        "\n",
        "def rev_palindrome(num1,num2):\n",
        "    if num1==0:\n",
        "        return\n",
        "    space(num1-1)\n",
        "    pattern(num2-num1+1,1)\n",
        "    print()\n",
        "    rev_palindrome(num1-1,num2)\n",
        "    \n",
        "def space(number):\n",
        "    if number == 0:\n",
        "        return\n",
        "    print(\" \", end=\"\")\n",
        "    space(number-1)\n",
        "\n",
        "def pattern(num1,num2):\n",
        "    if num1==0:\n",
        "        return\n",
        "    print(num2,end=\"\")\n",
        "    pattern(num1-1,num2+1)\n",
        "\n",
        "rev_palindrome(5,5)"
      ],
      "metadata": {
        "colab": {
          "base_uri": "https://localhost:8080/"
        },
        "id": "IMj9H76HtBj_",
        "outputId": "6d434be9-d695-418d-dbc7-fa6363cb35e6"
      },
      "execution_count": 21,
      "outputs": [
        {
          "output_type": "stream",
          "name": "stdout",
          "text": [
            "    1\n",
            "   12\n",
            "  123\n",
            " 1234\n",
            "12345\n"
          ]
        }
      ]
    },
    {
      "cell_type": "code",
      "source": [
        "#TASK - 5\n",
        "class FinalQ:\n",
        "    def print(self, array, idx):\n",
        "        if(idx < len(array)):\n",
        "            profit = self.calcProfit(array[idx])\n",
        "            print(f\"{str(idx+1)}. Investment: {array[idx]}; Profit: {profit} \")\n",
        "            self.print(array, idx+1)\n",
        "\n",
        "    def calcProfit(self, investment):\n",
        "        if investment <= 25000:\n",
        "            return 0.0\n",
        "        elif investment > 25000 and investment <= 100000:\n",
        "            return 45 + self.calcProfit(investment-1000)\n",
        "        elif investment > 100000:\n",
        "            return 80 + self.calcProfit(investment-1000)\n",
        "        else:\n",
        "            return 0\n",
        "\n",
        "\n",
        "array = [25000, 100000, 250000, 350000]\n",
        "f = FinalQ()\n",
        "f.print(array, 0)"
      ],
      "metadata": {
        "colab": {
          "base_uri": "https://localhost:8080/"
        },
        "id": "_H9cpIIozVGW",
        "outputId": "579afac0-a373-4ca7-c592-c7c67c714402"
      },
      "execution_count": 23,
      "outputs": [
        {
          "output_type": "stream",
          "name": "stdout",
          "text": [
            "1. Investment: 25000; Profit: 0.0 \n",
            "2. Investment: 100000; Profit: 3375.0 \n",
            "3. Investment: 250000; Profit: 15375.0 \n",
            "4. Investment: 350000; Profit: 23375.0 \n"
          ]
        }
      ]
    }
  ]
}