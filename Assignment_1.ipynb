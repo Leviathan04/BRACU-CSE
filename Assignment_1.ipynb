{
  "nbformat": 4,
  "nbformat_minor": 0,
  "metadata": {
    "colab": {
      "name": "CSE111  Assignment 1.ipynb",
      "provenance": [],
      "collapsed_sections": []
    },
    "kernelspec": {
      "name": "python3",
      "display_name": "Python 3"
    },
    "language_info": {
      "name": "python"
    }
  },
  "cells": [
    {
      "cell_type": "code",
      "execution_count": null,
      "metadata": {
        "colab": {
          "base_uri": "https://localhost:8080/"
        },
        "id": "NR2lcOuKwJ3l",
        "outputId": "4c890e58-30b4-40e8-8e29-67fd8fcf55b5"
      },
      "outputs": [
        {
          "output_type": "stream",
          "name": "stdout",
          "text": [
            "(1, 1, 2, 4, 3, 9, 4, 16, 5, 25, 6, 36, 7, 49, 8, 64, 9, 81, 10, 100)\n"
          ]
        }
      ],
      "source": [
        "#Answer to question 1\n",
        "\n",
        "temp =[]\n",
        "\n",
        "for i in range(1,11):\n",
        "  num = i**2\n",
        "  temp.append(i)\n",
        "  temp.append(num)\n",
        "print(tuple(temp))"
      ]
    },
    {
      "cell_type": "code",
      "source": [
        "#Answer to question 2\n",
        "\n",
        "list_a = ['Name','ID','Email','Favourite Summer Fruits']\n",
        "list_b = ['Mehrabul Islam', 21101334, \"mehrabul.islam@g.bracu.ac.bd\", [\"Mango\", \"Lichi\", \"Watermelon\"]]\n",
        "\n",
        "my_identity = {}\n",
        "\n",
        "for elem in range(len(list_a)):\n",
        "\n",
        "  key = list_a[elem]\n",
        "  value = list_b[elem]\n",
        "  my_identity[key] = value\n",
        "\n",
        "print(\"my_identity:\", my_identity)"
      ],
      "metadata": {
        "id": "bPyCMpCVzAsJ",
        "colab": {
          "base_uri": "https://localhost:8080/"
        },
        "outputId": "ff38fe79-cf8a-47b6-956f-86571285aa16"
      },
      "execution_count": null,
      "outputs": [
        {
          "output_type": "stream",
          "name": "stdout",
          "text": [
            "my_identity: {'Name': 'Mehrabul Islam', 'ID': 21101334, 'Email': 'mehrabul.islam@g.bracu.ac.bd', 'Favourite Summer Fruits': ['Mango', 'Lichi', 'Watermelon']}\n"
          ]
        }
      ]
    },
    {
      "cell_type": "code",
      "source": [
        "#Answer to question 3\n",
        "my_identity = {'Name': 'Mehrabul Islam', 'ID': 21101334, 'Email': 'mehrabul.islam@g.bracu.ac.bd', 'Favourite Summer Fruits': ['Mango','Lichi','Watermelon']}\n",
        "\n",
        "for key in my_identity.keys():\n",
        "  print(\"key= \",key)\n",
        "for val in my_identity.values():\n",
        "  print(\"value= \",val)\n",
        "\n",
        "for key,val in my_identity.items():\n",
        "  print(\"items= \", key, val)"
      ],
      "metadata": {
        "colab": {
          "base_uri": "https://localhost:8080/"
        },
        "id": "_ge7rjp70cL4",
        "outputId": "97931f1b-eb4e-40e4-c9a9-cd8ad495e343"
      },
      "execution_count": null,
      "outputs": [
        {
          "output_type": "stream",
          "name": "stdout",
          "text": [
            "key=  Name\n",
            "key=  ID\n",
            "key=  Email\n",
            "key=  Favourite Summer Fruits\n",
            "value=  Mehrabul Islam\n",
            "value=  21101334\n",
            "value=  mehrabul.islam@g.bracu.ac.bd\n",
            "value=  ['Mango', 'Lichi', 'Watermelon']\n",
            "items=  Name Mehrabul Islam\n",
            "items=  ID 21101334\n",
            "items=  Email mehrabul.islam@g.bracu.ac.bd\n",
            "items=  Favourite Summer Fruits ['Mango', 'Lichi', 'Watermelon']\n"
          ]
        }
      ]
    },
    {
      "cell_type": "code",
      "source": [
        "#Answer to question 4\n",
        "\n",
        "animals = [\"Horse\", \"Elephant\", \"Tiger\", \"Lion\", \"Cheetah\"]\n",
        "\n",
        "\n",
        "animals.append(\"Bear\")\n",
        "print(animals)\n",
        "\n",
        "animals.extend([\"Rhino\", \"Zebra\"])\n",
        "print(animals)\n",
        "\n",
        "\n",
        "animals.sort()\n",
        "print(animals)\n",
        "\n",
        "\n",
        "animals.pop(2)\n",
        "print(animals)\n",
        "\n",
        "\n",
        "index_num = animals.index(\"Tiger\")\n",
        "print(index_num)\n",
        "\n",
        "\n",
        "animals.insert(3,\"Giraffe\")\n",
        "print(animals)\n",
        "\n",
        "\n",
        "animals.remove('Giraffe')\n",
        "print(animals)"
      ],
      "metadata": {
        "colab": {
          "base_uri": "https://localhost:8080/"
        },
        "id": "w3LYRHIxhPNg",
        "outputId": "30cfdbad-8cec-4f92-ed63-a0fda053dc5e"
      },
      "execution_count": null,
      "outputs": [
        {
          "output_type": "stream",
          "name": "stdout",
          "text": [
            "['Horse', 'Elephant', 'Tiger', 'Lion', 'Cheetah', 'Bear']\n",
            "['Horse', 'Elephant', 'Tiger', 'Lion', 'Cheetah', 'Bear', 'Rhino', 'Zebra']\n",
            "['Bear', 'Cheetah', 'Elephant', 'Horse', 'Lion', 'Rhino', 'Tiger', 'Zebra']\n",
            "['Bear', 'Cheetah', 'Horse', 'Lion', 'Rhino', 'Tiger', 'Zebra']\n",
            "5\n",
            "['Bear', 'Cheetah', 'Horse', 'Giraffe', 'Lion', 'Rhino', 'Tiger', 'Zebra']\n",
            "['Bear', 'Cheetah', 'Horse', 'Lion', 'Rhino', 'Tiger', 'Zebra']\n"
          ]
        }
      ]
    },
    {
      "cell_type": "code",
      "source": [
        "#Answer to question 5\n",
        "\n",
        "def primes(num):\n",
        "  print(num)\n",
        "  number= int(num[-2:])\n",
        "  \n",
        "  temp=[]\n",
        "  if number>1:\n",
        "    for prime in range(2, number):\n",
        "      flag = True\n",
        "\n",
        "      for num in range(2,prime):\n",
        "        if prime%num == 0:\n",
        "          flag = False\n",
        "\n",
        "      if flag:\n",
        "        temp.append(prime)\n",
        "    return set(temp)\n",
        "      \n",
        "\n",
        "primes(\"21101334\")\n"
      ],
      "metadata": {
        "colab": {
          "base_uri": "https://localhost:8080/"
        },
        "id": "o_JPQQ9m0ivP",
        "outputId": "8226ddce-b404-4bd1-bde8-8ae69381922e"
      },
      "execution_count": null,
      "outputs": [
        {
          "output_type": "stream",
          "name": "stdout",
          "text": [
            "21101334\n"
          ]
        },
        {
          "output_type": "execute_result",
          "data": {
            "text/plain": [
              "{2, 3, 5, 7, 11, 13, 17, 19, 23, 29, 31}"
            ]
          },
          "metadata": {},
          "execution_count": 58
        }
      ]
    }
  ]
}