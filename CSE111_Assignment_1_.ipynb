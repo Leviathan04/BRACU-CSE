{
  "nbformat": 4,
  "nbformat_minor": 0,
  "metadata": {
    "colab": {
      "name": "CSE111 Assignment 1 .ipynb",
      "provenance": [],
      "collapsed_sections": []
    },
    "kernelspec": {
      "name": "python3",
      "display_name": "Python 3"
    },
    "language_info": {
      "name": "python"
    },
    "gpuClass": "standard"
  },
  "cells": [
    {
      "cell_type": "markdown",
      "source": [
        "**STRING** -----------------------------\n"
      ],
      "metadata": {
        "id": "363IrJdaF2gi"
      }
    },
    {
      "cell_type": "code",
      "execution_count": null,
      "metadata": {
        "colab": {
          "base_uri": "https://localhost:8080/"
        },
        "id": "-gzpIWm4E8Uz",
        "outputId": "77574eb9-9ff7-4703-ccf3-985f90086674"
      },
      "outputs": [
        {
          "output_type": "stream",
          "name": "stdout",
          "text": [
            "Enter the string: BaNaNa\n",
            "banana\n"
          ]
        }
      ],
      "source": [
        "#Task 1 \n",
        "\n",
        "cap = 0\n",
        "small = 0\n",
        "user=input(\"Enter the string: \")\n",
        "\n",
        "for elem in user:\n",
        "  if ord(elem)>= 65 and ord(elem)<=90:\n",
        "      cap+=1\n",
        "\n",
        "  elif ord(elem)>= 97 and ord(elem)<=122:\n",
        "    small+=1\n",
        "\n",
        "if cap > small:\n",
        "  print(user.upper())\n",
        "  \n",
        "elif cap==small:\n",
        "  print(user.lower())\n",
        "else:\n",
        "  print(user.lower())"
      ]
    },
    {
      "cell_type": "code",
      "source": [
        "11#Task 2\n",
        "\n",
        "user = input(\"Enter the string: \")\n",
        "word = False\n",
        "num = False\n",
        "\n",
        "for elem in user:\n",
        "  if 48<= ord(elem) <= 57 and 65 <= ord(elem) <= 122:\n",
        "    num = True\n",
        "    word = True\n",
        "  elif 48<= ord(elem) <= 57:\n",
        "    num= True\n",
        "  elif (ord(elem)>= 65 and ord(elem)<=90) or (ord(elem)>= 97 and ord(elem)<=122):\n",
        "    word= True                                                     \n",
        "if word == True and num == False:\n",
        "  print(\"WORD\")\n",
        "elif num == True and word == False:\n",
        "  print(\"NUMBER\")\n",
        "elif word == True and num == True:\n",
        "  print(\"MIXED\")"
      ],
      "metadata": {
        "colab": {
          "base_uri": "https://localhost:8080/"
        },
        "id": "Qm5omlAPLn9B",
        "outputId": "4bca01c8-df98-4b0b-ad40-db6a21800df6"
      },
      "execution_count": null,
      "outputs": [
        {
          "output_type": "stream",
          "name": "stdout",
          "text": [
            "Enter the string: 23addd\n",
            "MIXED\n"
          ]
        }
      ]
    },
    {
      "cell_type": "code",
      "source": [
        "# Task 3\n",
        "user = input(\"Enter the string: \")\n",
        "\n",
        "char = []\n",
        "for elem in user:\n",
        "  if \"A\" <= elem <=\"Z\":\n",
        "    char.append(elem)\n",
        "\n",
        "start= user.index(char[0])\n",
        "end=user.index(char[1])\n",
        "\n",
        "if start+1 == end:\n",
        "  print(\"BLANK\")\n",
        "else:\n",
        "  result = user[start+1:end]\n",
        "  print(result)"
      ],
      "metadata": {
        "colab": {
          "base_uri": "https://localhost:8080/"
        },
        "id": "aV_LBjflTVDO",
        "outputId": "53a0495b-ea30-4738-806e-1d3baa0d9737"
      },
      "execution_count": null,
      "outputs": [
        {
          "output_type": "stream",
          "name": "stdout",
          "text": [
            "Enter the string: baNgladEsh\n",
            "glad\n"
          ]
        }
      ]
    },
    {
      "cell_type": "code",
      "source": [
        "#task4\n",
        "user=input()\n",
        "y=user.split(',')\n",
        "a=y[0]\n",
        "b=y[1]\n",
        "c=''\n",
        "for i in a:\n",
        "  if i in b:\n",
        "    c+=i\n",
        "for i in b :\n",
        "  if i in a:\n",
        "    c+=i\n",
        "if c!='':\n",
        "  print(c)\n",
        "else:\n",
        "  print('Nothing in common')"
      ],
      "metadata": {
        "id": "s62riXukXQlg"
      },
      "execution_count": null,
      "outputs": []
    },
    {
      "cell_type": "code",
      "source": [
        "#TASK 5\n",
        "user = input(\"Please enter the Password: \")\n",
        "\n",
        "lower = 0\n",
        "upper = 0\n",
        "num = 0\n",
        "special = 0\n",
        "\n",
        "for i in user:\n",
        "    if 32<=ord(i)<=126:\n",
        "        if ord(i) in range(97,122+1):\n",
        "            lower+= 1\n",
        "        elif ord(i) in range(65,90+1):\n",
        "            upper+= 1\n",
        "        elif ord(i) in range(48,57+1):\n",
        "            num+= 1\n",
        "        else:\n",
        "            special+= 1\n",
        "            \n",
        "if lower != 0 and upper != 0 and num != 0 and special != 0:\n",
        "    print(\"OK\")\n",
        "    \n",
        "if lower == 0 and (upper == 0 or num ==0 or special == 0):\n",
        "    print(\"Lowercase character missing\", \", \", sep = \"\", end = \"\")\n",
        "if lower == 0 and (upper != 0 and num !=0 and special != 0):\n",
        "    print(\"Lowercase character missing\")  \n",
        "    \n",
        "if upper == 0 and (num ==0 or special == 0):\n",
        "    print(\"Uppercase character missing\", \", \", sep = \"\", end = \"\")\n",
        "if upper == 0 and (num !=0 or special != 0):\n",
        "    print(\"Uppercase character missing\")\n",
        "    \n",
        "if num == 0 and special == 0:\n",
        "    print(\"Digit missing\", \", \", sep = \"\", end = \"\")\n",
        "if num == 0 and special != 0:\n",
        "    print(\"Digit missing\")\n",
        "    \n",
        "if special == 0:\n",
        "    print(\"Special character missing\")"
      ],
      "metadata": {
        "colab": {
          "base_uri": "https://localhost:8080/"
        },
        "id": "JNXwgYU7BnKp",
        "outputId": "fa278073-df03-4cbb-a8c9-f238c968cfb5"
      },
      "execution_count": null,
      "outputs": [
        {
          "output_type": "stream",
          "name": "stdout",
          "text": [
            "Please enter the Password: ohmybracu\n",
            "Uppercase character missing, Digit missing, Special character missing\n"
          ]
        }
      ]
    },
    {
      "cell_type": "markdown",
      "source": [
        "------------------------------------------------------------------------------------------------------------             **LIST**             ------------------------------------------------------------------------------------------------------------\n",
        "\n"
      ],
      "metadata": {
        "id": "HWvpEJ-wg4FP"
      }
    },
    {
      "cell_type": "code",
      "source": [
        "#Task 1\n",
        "\n",
        "temp = []\n",
        "while True:\n",
        "  user= input()\n",
        "  temp.append(user)\n",
        "  if user == \"STOP\":\n",
        "    break\n",
        "a10 = 0\n",
        "a20 = 0\n",
        "a30 = 0\n",
        "a50 = 0\n",
        "a90 = 0\n",
        "\n",
        "for elem in temp:\n",
        "  if elem == '10':\n",
        "    a10 +=1\n",
        "  elif elem == '20':\n",
        "    a20 += 1\n",
        "  elif elem == '30':\n",
        "    a30 += 1\n",
        "  elif elem == '50':\n",
        "    a50 += 1\n",
        "  elif elem == '90':\n",
        "    a90 += 1\n",
        "print(\"10 -\", a10,\"times\")\n",
        "print(\"20 -\", a20,\"times\")\n",
        "print(\"30 -\", a30,\"times\")\n",
        "print(\"50 -\", a50,\"times\")\n",
        "print(\"90 -\", a90,\"times\")\n"
      ],
      "metadata": {
        "colab": {
          "base_uri": "https://localhost:8080/"
        },
        "id": "DRhdQFpjhBgp",
        "outputId": "1e2626e7-0cbd-45f0-86d0-803519ee73f3"
      },
      "execution_count": null,
      "outputs": [
        {
          "output_type": "stream",
          "name": "stdout",
          "text": [
            "10\n",
            "20\n",
            "20\n",
            "30\n",
            "10\n",
            "50\n",
            "90\n",
            "STOP\n",
            "10 - 2 times\n",
            "20 - 2 times\n",
            "30 - 1 times\n",
            "50 - 1 times\n",
            "90 - 1 times\n"
          ]
        }
      ]
    },
    {
      "cell_type": "code",
      "source": [
        "#TASK 1    ---------   ALTERNATE WAY -----------  Doesn't work  ------------------\n",
        "\n",
        "temp = []\n",
        "while True:\n",
        "  user= input(\"Enter string: \")\n",
        "  temp.append(user)\n",
        "  if temp[-1] == \"STOP\":\n",
        "    break\n",
        "\n",
        "for elem in temp:\n",
        "  if elem != \"STOP\":\n",
        "    num = temp.checker(elem)\n",
        "    print(elem, \"-\", num, \"Times\")"
      ],
      "metadata": {
        "colab": {
          "base_uri": "https://localhost:8080/"
        },
        "id": "z5qY2mzL3WmZ",
        "outputId": "ea0542dc-0422-417d-9ae1-c4afea544644"
      },
      "execution_count": null,
      "outputs": [
        {
          "output_type": "stream",
          "name": "stdout",
          "text": [
            "Enter string: 10\n",
            "Enter string: 20\n",
            "Enter string: 20\n",
            "Enter string: 30\n",
            "Enter string: 10\n",
            "Enter string: 50\n",
            "Enter string: 90\n",
            "Enter string: STOP\n",
            "10 - 2 Times\n",
            "20 - 2 Times\n",
            "20 - 2 Times\n",
            "30 - 1 Times\n",
            "10 - 2 Times\n",
            "50 - 1 Times\n",
            "90 - 1 Times\n"
          ]
        }
      ]
    },
    {
      "cell_type": "code",
      "source": [
        "#Task 2\n",
        "\n",
        "count = int(input())\n",
        "a_list = []\n",
        "total = 0\n",
        "\n",
        "for item in range(count):\n",
        "  user= input().strip(\" \").split(\" \")\n",
        "  checker=0\n",
        "  for elem in range(len(user)):\n",
        "    temp =int(user[elem])\n",
        "    checker+= temp\n",
        "  if checker>total:\n",
        "    total=checker\n",
        "    a_list=user\n",
        "\n",
        "print(total)\n",
        "print(a_list)\n"
      ],
      "metadata": {
        "colab": {
          "base_uri": "https://localhost:8080/"
        },
        "id": "3VWdOOdVBdEU",
        "outputId": "001bde5a-020d-44a7-a55e-65142575ab83"
      },
      "execution_count": null,
      "outputs": [
        {
          "output_type": "stream",
          "name": "stdout",
          "text": [
            "4\n",
            "1 2 3\n",
            "4 5 6\n",
            "10 11 12\n",
            "7 8 9\n",
            "33\n",
            "[10, 11, 12]\n"
          ]
        }
      ]
    },
    {
      "cell_type": "code",
      "source": [
        "#TASK 2  -------------------    ALTERNATE WAY       ---------------------\n",
        "\n",
        "checker = int(input(\"Please enter a number: \"))\n",
        "temp = []\n",
        "for elem in range(checker):\n",
        "  user = input(\"Please enter a number: \").split()\n",
        "  \n",
        "  temp.extend(user)\n",
        "print(temp)\n"
      ],
      "metadata": {
        "id": "YT7N55fUc0yp",
        "colab": {
          "base_uri": "https://localhost:8080/"
        },
        "outputId": "142e82d8-4b75-4d82-f202-82c4fb3620d4"
      },
      "execution_count": null,
      "outputs": [
        {
          "output_type": "stream",
          "name": "stdout",
          "text": [
            "Please enter a number: 2\n",
            "Please enter a number: 1 2 3\n",
            "Please enter a number: 3 2 1\n",
            "['1', '2', '3', '3', '2', '1']\n"
          ]
        }
      ]
    },
    {
      "cell_type": "code",
      "source": [
        "# TASK 3\n",
        "\n",
        "while True:\n",
        "    user = input()\n",
        "    if user == \"STOP\":\n",
        "        break\n",
        "    else:\n",
        "        list_1 = user.split()\n",
        "        checker = int(list_1[0])\n",
        "        flag = True\n",
        "        \n",
        "        for i in list_1:\n",
        "            if i == list_1[0]:\n",
        "                    continue\n",
        "            else:\n",
        "                diff_1 = checker-int(i)\n",
        "                diff_2 = int(i)-checker\n",
        "                checker = int(i)\n",
        "                if diff_1>len(list_1) or diff_2>len(list_1):\n",
        "                    flag = False\n",
        "                    break\n",
        "                else:\n",
        "                    flag = True\n",
        "\n",
        "        if flag == True:\n",
        "            print(\"UB Jumper\")\n",
        "        if flag == False:\n",
        "            print(\"Not UB Jumper\")"
      ],
      "metadata": {
        "id": "mrNFKMnwftkN",
        "colab": {
          "base_uri": "https://localhost:8080/"
        },
        "outputId": "b2d16d83-da6d-4f89-b589-92d4006ea5b7"
      },
      "execution_count": null,
      "outputs": [
        {
          "name": "stdout",
          "output_type": "stream",
          "text": [
            "1 4 2 3\n",
            "UB Jumper\n",
            "2 1 4 6 10\n",
            "UB Jumper\n",
            "1 4 2 -1 6\n",
            "Not UB Jumper\n",
            "STOP\n"
          ]
        }
      ]
    },
    {
      "cell_type": "code",
      "source": [
        "#TASK 4\n",
        "\n",
        "count = input()\n",
        "num = input()\n",
        "\n",
        "checker = 0\n",
        "\n",
        "for item in num:\n",
        "    if item == \" \":\n",
        "        continue\n",
        "    elif (int(item)+int(count[2]))>5:    \n",
        "        continue\n",
        "    else:\n",
        "        checker+=1\n",
        "                \n",
        "print(checker//3)    "
      ],
      "metadata": {
        "id": "jZK_DtGYgmw8",
        "colab": {
          "base_uri": "https://localhost:8080/"
        },
        "outputId": "6f19a5dd-bf3a-4e25-81e9-ddb5b81ca222"
      },
      "execution_count": null,
      "outputs": [
        {
          "output_type": "stream",
          "name": "stdout",
          "text": [
            "6 4\n",
            "0 1 2 3 4 5\n",
            "0\n"
          ]
        }
      ]
    },
    {
      "cell_type": "markdown",
      "source": [
        "--------------------**DICTIONARY & TUPLES**---------------------"
      ],
      "metadata": {
        "id": "K2mXn5MhrlN1"
      }
    },
    {
      "cell_type": "code",
      "source": [
        "#TASK 1\n",
        "user= input().split(\", \")\n",
        "dict_1= {}\n",
        "for i in user:\n",
        "    if \":\" in i:\n",
        "        temp= i.split(\": \")\n",
        "        dict_1[temp[0]]= int(temp[1])\n",
        "        \n",
        "list_2= input().split(\", \")\n",
        "dict_2= {}\n",
        "for j in list_2:\n",
        "    if \":\" in j:\n",
        "        list_3= j.split(\": \")\n",
        "        dict_2[list_3[0]]= int(list_3[1])\n",
        "        \n",
        "dict_3= {}\n",
        "for i,j in dict_2.items():\n",
        "    if i not in dict_1:\n",
        "        dict_1[i]= j\n",
        "    else:\n",
        "        dict_1[i]+= j\n",
        "print(dict_1)        \n",
        "\n",
        "list_3= []            \n",
        "for i in dict_1.values():\n",
        "    list_3.append(i)\n",
        "        \n",
        "print(\"Values:\", tuple(sorted(list_3)))   "
      ],
      "metadata": {
        "colab": {
          "base_uri": "https://localhost:8080/"
        },
        "id": "OIn9kTrPrIgJ",
        "outputId": "9609199f-fa6e-42f4-d22f-4256b7627468"
      },
      "execution_count": null,
      "outputs": [
        {
          "output_type": "stream",
          "name": "stdout",
          "text": [
            "a: 100, b: 100, c: 200, d: 300\n",
            "a: 300, b: 200, d: 400, e: 200\n",
            "{'a': 400, 'b': 300, 'c': 200, 'd': 700, 'e': 200}\n",
            "Values: (200, 200, 300, 400, 700)\n"
          ]
        }
      ]
    },
    {
      "cell_type": "code",
      "source": [
        "#TASK 2\n",
        "out= {}\n",
        "while True:\n",
        "    user= input()\n",
        "    if user== \"STOP\":\n",
        "        break\n",
        "    else:        \n",
        "        if user not in out:\n",
        "            out[user]= 1\n",
        "        else:\n",
        "            out[user]+= 1\n",
        "            \n",
        "for k,v in out.items():\n",
        "    print(k, \"-\", v, \"times\")"
      ],
      "metadata": {
        "id": "iPPKTGzwvWZ6"
      },
      "execution_count": null,
      "outputs": []
    },
    {
      "cell_type": "code",
      "source": [
        "#TASK 3\n",
        "user= input().split(\", \")\n",
        "dict_1= {}\n",
        "dict_2= {}\n",
        "\n",
        "for item in user:\n",
        "    if \":\" in item:\n",
        "        list_2= item.split(\" : \")\n",
        "        dict_1[list_2[0]]= list_2[1]\n",
        "            \n",
        "for key,value in dict_1.items():\n",
        "    if value not in dict_2:\n",
        "        dict_2[value]= [key]\n",
        "    else:      \n",
        "        dict_2[value].append(key)\n",
        "        \n",
        "print(dict_2)   "
      ],
      "metadata": {
        "id": "Pi_klpdSw5Mo",
        "colab": {
          "base_uri": "https://localhost:8080/"
        },
        "outputId": "750c14f7-48ad-4acd-a527-5ff6f02aae38"
      },
      "execution_count": null,
      "outputs": [
        {
          "output_type": "stream",
          "name": "stdout",
          "text": [
            "key1 : value1, key2 : value2, key3 : value1\n",
            "{'value1': ['key1', 'key3'], 'value2': ['key2']}\n"
          ]
        }
      ]
    },
    {
      "cell_type": "code",
      "source": [
        "#TASK 4\n",
        "\n",
        "user= input().upper()\n",
        "list_1 = [\" \", \".,?!:\", \"ABC\", \"DEF\", \"GHI\", \"JKL\", \"MNO\", \"PQRS\", \"TUV\", \"WXYZ\"]\n",
        "result= \"\"\n",
        "\n",
        "for i in user:\n",
        "    count= 0\n",
        "    for j in list_1:\n",
        "        if i not in j:\n",
        "            count+= 1\n",
        "        else:\n",
        "            user= str(count)\n",
        "            for k in j:\n",
        "                if i!= k:\n",
        "                    user+= str(count)\n",
        "                else:\n",
        "                    result+= user\n",
        "                    break\n",
        "print(result)"
      ],
      "metadata": {
        "id": "xgQZqOT6yG5r",
        "colab": {
          "base_uri": "https://localhost:8080/"
        },
        "outputId": "edd78200-62d6-4486-a4c0-88762e4dbe9e"
      },
      "execution_count": null,
      "outputs": [
        {
          "output_type": "stream",
          "name": "stdout",
          "text": [
            "Hello, World!\n",
            "4433555555666110966677755531111\n"
          ]
        }
      ]
    },
    {
      "cell_type": "markdown",
      "source": [
        "----------------------**FUNCTION**-------------------------"
      ],
      "metadata": {
        "id": "GoUX5k3rz-Gl"
      }
    },
    {
      "cell_type": "code",
      "source": [
        "#TASK 1\n",
        "def bmi_calculator(height, mass):\n",
        "    bmi = mass / ((height/100)**2)\n",
        "    status=\"\"\n",
        "    if bmi < 18.5:\n",
        "      status = \"Underweight\" \n",
        "    else:\n",
        "      if 18.5 <= bmi <= 24.9:\n",
        "        status=\"Normal\"\n",
        "      if 25 <= bmi <= 30:\n",
        "        status= \"Overweight\"\n",
        "\n",
        "      if bmi>30:\n",
        "        status=\"Obese\"\n",
        "    print(\"Score is\", bmi, \"You are\", status)\n",
        "\n",
        "\n",
        "\n",
        "height, weight = [int(i) for i in input().strip(\"()\").split(\",\")]\n",
        "bmi_calculator(height, weight)"
      ],
      "metadata": {
        "colab": {
          "base_uri": "https://localhost:8080/"
        },
        "id": "WwOIhJcu0Cb-",
        "outputId": "b48a945b-9f5b-4796-a210-670bbc14346c"
      },
      "execution_count": null,
      "outputs": [
        {
          "output_type": "stream",
          "name": "stdout",
          "text": [
            "(175,96)\n",
            "Score is 31.346938775510203 You are Obese\n"
          ]
        }
      ]
    },
    {
      "cell_type": "code",
      "source": [
        "#TASK 2\n",
        "def special_adder(start, stop, step):\n",
        "    result_sum = 0\n",
        "    for i in range(start, stop, step):    \n",
        "        result_sum += i\n",
        "    print(result_sum)\n",
        "\n",
        "start, stop, step = [int(i) for i in input().strip(\"() \").split(\",\")]\n",
        "special_adder(start, stop, step)"
      ],
      "metadata": {
        "colab": {
          "base_uri": "https://localhost:8080/"
        },
        "id": "ayECYspIAB3k",
        "outputId": "a36be3a6-ffe3-4dbc-9cb1-9b662ed97f50"
      },
      "execution_count": null,
      "outputs": [
        {
          "output_type": "stream",
          "name": "stdout",
          "text": [
            "(0, 10, 2)\n",
            "20\n"
          ]
        }
      ]
    },
    {
      "cell_type": "code",
      "source": [
        "#TASK 3\n",
        "\n",
        "def foodpanda(burger, location='Mohakhali'):\n",
        "    menu = {\"BBQ Chicken Cheese Burger \": 250, \"Beef Burger\": 170, \"Naga Drums\": 200}\n",
        "    total = 40 if location == 'Mohakhali' else 60\n",
        "    total += menu[burger] + (menu[burger]*0.08)\n",
        "    print(total)\n",
        "\n",
        "\n",
        "user = input().strip(\"() \").replace(\"'\", \"\")\n",
        "if \",\" in user:\n",
        "  burger, location = [i.strip() for i in user.split(\",\")]\n",
        "  foodpanda(burger, location)\n",
        "else:\n",
        "  foodpanda(user)"
      ],
      "metadata": {
        "id": "R3FJd6xjBL6w",
        "colab": {
          "base_uri": "https://localhost:8080/"
        },
        "outputId": "a8c8f017-3e0c-495f-bc4f-99fabd623e4d"
      },
      "execution_count": 1,
      "outputs": [
        {
          "output_type": "stream",
          "name": "stdout",
          "text": [
            "('Beef Burger', 'Dhanmondi')\n",
            "243.6\n"
          ]
        }
      ]
    },
    {
      "cell_type": "code",
      "source": [
        "#TASK 5\n",
        "\n",
        "def palindrome_checker(word):\n",
        "    palindrome = False\n",
        "    for i in range(len(word)//2):\n",
        "        if word[i] != word[-(i+1)]:\n",
        "            palindrome = True\n",
        "    print(\"Palindrome\" if palindrome else \"Not a palindrome\")\n",
        "\n",
        "palindrome_checker(input(\"Enter the word you want to check: \").replace(\" \", \"\"))"
      ],
      "metadata": {
        "colab": {
          "base_uri": "https://localhost:8080/"
        },
        "id": "MT7ytnwTCypI",
        "outputId": "639c05b9-396f-47bc-fc41-f20215423037"
      },
      "execution_count": 2,
      "outputs": [
        {
          "output_type": "stream",
          "name": "stdout",
          "text": [
            "Enter the word you want to check: 'madam'\n",
            "Not a palindrome\n"
          ]
        }
      ]
    },
    {
      "cell_type": "code",
      "source": [
        "#Task 6\n",
        "\n",
        "def capitalize(sentence):\n",
        "    sentence = list(sentence)\n",
        "\n",
        "    for i in range(len(sentence)):\n",
        "        if i == 0:\n",
        "            sentence[i] = sentence[i].upper()\n",
        "        elif i == len(sentence)-1:\n",
        "            break\n",
        "        elif sentence[i] in \".!?\":\n",
        "            if sentence[i+1] not in \" .!?\":\n",
        "                sentence.insert(i+1, \" \")\n",
        "            sentence[i+2] = sentence[i+2].upper()\n",
        "        elif sentence[i] == \"i\" and sentence[i+1] in \" .!?\" and sentence[i-1] == \" \":\n",
        "            sentence[i] = \"I\"\n",
        "\n",
        "    print(\"\".join(sentence))\n",
        "\n",
        "capitalize(input(\"Enter Text: \").strip(\"' ()\"))"
      ],
      "metadata": {
        "id": "-P_aeHGDGMm2",
        "colab": {
          "base_uri": "https://localhost:8080/"
        },
        "outputId": "0c1595e5-bac3-4802-b870-48709b314b6e"
      },
      "execution_count": null,
      "outputs": [
        {
          "output_type": "stream",
          "name": "stdout",
          "text": [
            "Enter Text: ('my favourite animal is a dog. a dog has sharp teeth so that it can eat flesh very easily. do you know my pet dog’s name? i love my pet very much.')\n",
            "My favourite animal is a dog. A dog has sharp teeth so that it can eat flesh very easily. Do you know my pet dog’s name? I love my pet very much.\n"
          ]
        }
      ]
    }
  ]
}