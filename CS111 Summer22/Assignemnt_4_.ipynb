{
  "nbformat": 4,
  "nbformat_minor": 0,
  "metadata": {
    "colab": {
      "name": "CSE111 Assignemnt 4 .ipynb",
      "provenance": [],
      "collapsed_sections": []
    },
    "kernelspec": {
      "name": "python3",
      "display_name": "Python 3"
    },
    "language_info": {
      "name": "python"
    }
  },
  "cells": [
    {
      "cell_type": "code",
      "source": [
        "#Task 1\n",
        "class Customer:\n",
        "  def __init__(self, name):\n",
        "    self.name=name\n",
        "\n",
        "  def greet(self,name=None):\n",
        "    self.name1 =name\n",
        "    if self.name1!= None:\n",
        "      print(f\"Hello! {self.name}\")\n",
        "    else:\n",
        "      print(\"Hello!\")\n",
        "  def purchase(self,*items):\n",
        "    self.items= items\n",
        "    num= len(self.items)\n",
        "    item_lists= \"\\n\".join(self.items)\n",
        "    print(f\"{self.name}, you purchased {num} item(s): \\n{item_lists}\")\n",
        "\n",
        "\n",
        "\n",
        "customer_1 = Customer(\"Sam\")\n",
        "customer_1.greet()\n",
        "customer_1.purchase(\"chips\", \"chocolate\", \"orange juice\")\n",
        "print(\"-----------------------------\")\n",
        "customer_2 = Customer(\"David\")\n",
        "customer_2.greet(\"David\")\n",
        "customer_2.purchase(\"orange juice\")"
      ],
      "metadata": {
        "colab": {
          "base_uri": "https://localhost:8080/"
        },
        "id": "5YcfDTv-Qzrx",
        "outputId": "80fd8dbb-d29e-4a55-ca73-a0cf3264650f"
      },
      "execution_count": null,
      "outputs": [
        {
          "output_type": "stream",
          "name": "stdout",
          "text": [
            "Hello!\n",
            "Sam, you purchased 3 item(s): \n",
            "chips\n",
            "chocolate\n",
            "orange juice\n",
            "-----------------------------\n",
            "Hello! David\n",
            "David, you purchased 1 item(s): \n",
            "orange juice\n"
          ]
        }
      ]
    },
    {
      "cell_type": "code",
      "source": [
        "#Task 2\n",
        "class Panda:\n",
        "  def __init__(self,name,gen,age):\n",
        "    self.name = name\n",
        "    self.gender =gen\n",
        "    self.age = age\n",
        "  def sleep(self,hours=0):\n",
        "    self.time = hours\n",
        "\n",
        "    if 3< self.time <=5:\n",
        "      return (f\"{self.name} sleeps {self.time} hours daily and should have Mixed Veggies \") \n",
        "    elif 6 <self.time<=8:\n",
        "      return (f\"{self.name} sleeps {self.time} hours daily and should have Eggplant & Tofu \")\n",
        "\n",
        "    elif 9<self.time<=11:\n",
        "      return (f\"{self.name} sleeps {self.time} hours daily and should have Brocolli Chicken \")\n",
        "    elif self.time==0:\n",
        "      return (f\"{self.name}'s duration is unknown thus should have only Bamboo leaves \")\n",
        "\n",
        "\n",
        "\n",
        "#Write your code here for subtasks 1-4.\n",
        "panda1 = Panda(\"Kunfu\",\"Male\", 5)\n",
        "panda2=Panda(\"Pan Pan\",\"Female\",3)\n",
        "panda3=Panda(\"Ming Ming\",\"Female\",8)\n",
        "print(\"{} is a {} Panda Bear who is {} years old\".format(panda1.name,panda1.gender,panda1.age))\n",
        "print(\"{} is a {} Panda Bear who is {} years old\".format(panda2.name,panda2.gender,panda2.age))\n",
        "print(\"{} is a {} Panda Bear who is {} years old\".format(panda3.name,panda3.gender,panda3.age))\n",
        "print(\"===========================\")\n",
        "print(panda2.sleep(10))\n",
        "print(panda1.sleep(4))\n",
        "print(panda3.sleep())"
      ],
      "metadata": {
        "id": "dc2n1y6MZpLR",
        "colab": {
          "base_uri": "https://localhost:8080/"
        },
        "outputId": "21d00f4e-53f8-4c18-c312-c55c08fb5b95"
      },
      "execution_count": null,
      "outputs": [
        {
          "output_type": "stream",
          "name": "stdout",
          "text": [
            "Kunfu is a Male Panda Bear who is 5 years old\n",
            "Pan Pan is a Female Panda Bear who is 3 years old\n",
            "Ming Ming is a Female Panda Bear who is 8 years old\n",
            "===========================\n",
            "Pan Pan sleeps 10 hours daily and should have Brocolli Chicken \n",
            "Kunfu sleeps 4 hours daily and should have Mixed Veggies \n",
            "Ming Ming's duration is unknown thus should have only Bamboo leaves \n"
          ]
        }
      ]
    },
    {
      "cell_type": "code",
      "source": [
        "#Task 3\n",
        "\n",
        "class Cat:\n",
        "  def __init__(self, color=\"White\", status=\"sitting\"):\n",
        "    self.color=color\n",
        "    self.status= status\n",
        "\n",
        "  def printCat(self):\n",
        "    print(f\"{self.color} cat is {self.status}\")\n",
        "\n",
        "  def changeColor(self,color2):\n",
        "    self.color = color2\n",
        "\n",
        "\n",
        "c1 = Cat()\n",
        "c2 = Cat(\"Black\")\n",
        "c3 = Cat(\"Brown\", \"jumping\")\n",
        "c4 = Cat(\"Red\", \"purring\")\n",
        "c1.printCat()\n",
        "c2.printCat()\n",
        "c3.printCat()\n",
        "c4.printCat()\n",
        "c1.changeColor(\"Blue\")\n",
        "c3.changeColor(\"Purple\")\n",
        "c1.printCat()\n",
        "c3.printCat()"
      ],
      "metadata": {
        "colab": {
          "base_uri": "https://localhost:8080/"
        },
        "id": "14q-fHseVMGG",
        "outputId": "a0e0c26e-bac8-48ad-e8b1-e827b31296f8"
      },
      "execution_count": null,
      "outputs": [
        {
          "output_type": "stream",
          "name": "stdout",
          "text": [
            "White cat is sitting\n",
            "Black cat is sitting\n",
            "Brown cat is jumping\n",
            "Red cat is purring\n",
            "Blue cat is sitting\n",
            "Purple cat is jumping\n"
          ]
        }
      ]
    },
    {
      "cell_type": "code",
      "source": [
        "#Task 4\n",
        "class Student:\n",
        "  def __init__(self,name = \"default student\"):\n",
        "    self.name=name\n",
        "    \n",
        "\n",
        "  def quizcalc(self,*num):\n",
        "    self.score = sum(num)/3\n",
        "\n",
        "  def printdetail(self):\n",
        "    print(f\"Hello {self.name} \")\n",
        "    print(f\"Your average quiz score {self.score}\")\n",
        "\n",
        "    \n",
        "# Write your code here\n",
        "s1 = Student()\n",
        "s1.quizcalc(10)\n",
        "print('--------------------------------')\n",
        "s1.printdetail()\n",
        "s2 = Student('Harry')\n",
        "s2.quizcalc(10,8)\n",
        "print('--------------------------------')\n",
        "s2.printdetail()\n",
        "s3 = Student('Hermione')\n",
        "s3.quizcalc(10,9,10)\n",
        "print('--------------------------------')\n",
        "s3.printdetail()"
      ],
      "metadata": {
        "colab": {
          "base_uri": "https://localhost:8080/"
        },
        "id": "bLO1Eh2JYcdO",
        "outputId": "b628c349-49ba-4948-cc18-a6b981296cfb"
      },
      "execution_count": null,
      "outputs": [
        {
          "output_type": "stream",
          "name": "stdout",
          "text": [
            "--------------------------------\n",
            "Hello default student \n",
            "Your average quiz score 3.3333333333333335\n",
            "--------------------------------\n",
            "Hello Harry \n",
            "Your average quiz score 6.0\n",
            "--------------------------------\n",
            "Hello Hermione \n",
            "Your average quiz score 9.666666666666666\n"
          ]
        }
      ]
    },
    {
      "cell_type": "code",
      "source": [
        "#Task 5\n",
        "class Student:\n",
        "  def __init__(self,name, id, dept= \"CSE\"):\n",
        "    self.name=name\n",
        "    self.id=id\n",
        "    self.dept =dept\n",
        "  def dailyEffort(self,num):\n",
        "    self.num = num\n",
        "    self.suggest = None\n",
        "    if num <= 2:\n",
        "      self.suggest = 'Suggestion: Should give more effort!'\n",
        "    elif num <= 4:\n",
        "       self.suggest = 'Suggestion: Keep up the good work!'\n",
        "    else:\n",
        "     self.suggest = 'Suggestion: Excellent! Now motivate others.'\n",
        "\n",
        "  def printDetails(self):\n",
        "    print(f\"Name: {self.name}\\nID: {self.id}\\nDepartment: {self.dept}\\nDaily Effort: {self.num} hour(s)\\n{self.suggest}\")\n",
        "\n",
        "\n",
        "\n",
        "\n",
        "# Write your code here.\n",
        "harry = Student('Harry Potter', 123)\n",
        "harry.dailyEffort(3)\n",
        "harry.printDetails()\n",
        "print('========================')\n",
        "john = Student(\"John Wick\", 456, \"BBA\")\n",
        "john.dailyEffort(2)\n",
        "john.printDetails()\n",
        "print('========================')\n",
        "naruto = Student(\"Naruto Uzumaki\", 777, \"Ninja\")\n",
        "naruto.dailyEffort(6)\n",
        "naruto.printDetails()"
      ],
      "metadata": {
        "colab": {
          "base_uri": "https://localhost:8080/"
        },
        "id": "lri-M7PzbO30",
        "outputId": "43992c7a-ac04-4822-b957-0f8b2d03b7db"
      },
      "execution_count": null,
      "outputs": [
        {
          "output_type": "stream",
          "name": "stdout",
          "text": [
            "Suggestion: Keep up the good work!\n",
            "Name: Harry Potter\n",
            "ID: 123\n",
            "Department: CSE\n",
            "Daily Effort: 3 hour(s)\n",
            "Suggestion: Keep up the good work!\n",
            "========================\n",
            "Suggestion: Should give more effort!\n",
            "Name: John Wick\n",
            "ID: 456\n",
            "Department: BBA\n",
            "Daily Effort: 2 hour(s)\n",
            "Suggestion: Should give more effort!\n",
            "========================\n",
            "Suggestion: Excellent! Now motivate others.\n",
            "Name: Naruto Uzumaki\n",
            "ID: 777\n",
            "Department: Ninja\n",
            "Daily Effort: 6 hour(s)\n",
            "Suggestion: Excellent! Now motivate others.\n"
          ]
        }
      ]
    },
    {
      "cell_type": "code",
      "source": [
        "#Task 6\n",
        "class Patient:\n",
        "  def __init__(self, name, age):\n",
        "    self.name=name\n",
        "    self.age=age\n",
        "\n",
        "  def add_Symptom(self,*symptoms):\n",
        "    self.symptoms =\", \".join(symptoms)\n",
        "\n",
        "  def printPatientDetail(self):\n",
        "    print(f\"Name: {self.name}\\nAge: {self.age} \\nSymptoms: {self.symptoms}\")\n",
        "\n",
        "# Write your code here.\n",
        "p1 = Patient(\"Thomas\", 23)\n",
        "p1.add_Symptom(\"Headache\")\n",
        "p2 = Patient(\"Carol\", 20)\n",
        "p2.add_Symptom(\"Vomiting\", \"Coughing\")\n",
        "p3 = Patient(\"Mike\", 25)\n",
        "p3.add_Symptom(\"Fever\", \"Headache\", \"Coughing\")\n",
        "print(\"=========================\")\n",
        "p1.printPatientDetail()\n",
        "print(\"=========================\")\n",
        "p2.printPatientDetail()\n",
        "print(\"=========================\")\n",
        "p3.printPatientDetail()"
      ],
      "metadata": {
        "colab": {
          "base_uri": "https://localhost:8080/"
        },
        "id": "TsxuivR5ecW9",
        "outputId": "e1371d29-8a17-4cd4-f535-fe7ca72391df"
      },
      "execution_count": null,
      "outputs": [
        {
          "output_type": "stream",
          "name": "stdout",
          "text": [
            "=========================\n",
            "Name: Thomas\n",
            "Age: 23 \n",
            "Symptoms: Headache\n",
            "=========================\n",
            "Name: Carol\n",
            "Age: 20 \n",
            "Symptoms: Vomiting, Coughing\n",
            "=========================\n",
            "Name: Mike\n",
            "Age: 25 \n",
            "Symptoms: Fever, Headache, Coughing\n"
          ]
        }
      ]
    },
    {
      "cell_type": "code",
      "source": [
        "#task 7\n",
        "class Match:\n",
        "  def __init__(self, teams):\n",
        "    self.teams = teams.split(\"-\")\n",
        "    self.team1 = self.teams[0]\n",
        "    self.team2 = self.teams[1]\n",
        "    self.run=0\n",
        "    self.over=0\n",
        "    self.wickets = 0\n",
        "    print(\"5..4..3..2..1.. Play !!!\")\n",
        "\n",
        "  def add_run(self,num1):\n",
        "    self.num1 = num1\n",
        "    self.run += num1\n",
        "\n",
        "  def add_over(self,num2):\n",
        "    self.num2 = num2\n",
        "    if num2 != 5:\n",
        "      self.over+= num2\n",
        "    else:\n",
        "      print(\"Warning! Cannot add 5 over/s (5 over match)\")\n",
        "\n",
        "  def add_wicket(self,num3):\n",
        "    self.wickets += num3\n",
        "\n",
        "  def print_scoreboard(self):\n",
        "    return(f\"Batting Team: {self.team1}\\nBowling Team: {self.team2}\\nTotal Runs: {self.run} wickets: {self.wickets} Overs: {self.over}\")\n",
        "\n",
        "# Write your code here.\n",
        "match1 = Match(\"Rangpur Riders-Cumilla Victorians\")\n",
        "print(\"=========================\")\n",
        "match1.add_run(4)\n",
        "match1.add_run(6)\n",
        "match1.add_over(1)\n",
        "print(match1.print_scoreboard())\n",
        "print(\"=========================\")\n",
        "match1.add_over(5)\n",
        "print(\"=========================\")\n",
        "match1.add_wicket(1)\n",
        "print(match1.print_scoreboard())"
      ],
      "metadata": {
        "colab": {
          "base_uri": "https://localhost:8080/"
        },
        "id": "qedixyT6iCLi",
        "outputId": "4c90ab7c-cfc6-46a4-e5dc-1237f8ca5b82"
      },
      "execution_count": null,
      "outputs": [
        {
          "output_type": "stream",
          "name": "stdout",
          "text": [
            "5..4..3..2..1.. Play !!!\n",
            "=========================\n",
            "Batting Team: Rangpur Riders\n",
            "Bowling Team: Cumilla Victorians\n",
            "Total Runs: 10 wickets: 0 Overs: 1\n",
            "=========================\n",
            "=========================\n",
            "Batting Team: Rangpur Riders\n",
            "Bowling Team: Cumilla Victorians\n",
            "Total Runs: 10 wickets: 1 Overs: 1\n"
          ]
        }
      ]
    },
    {
      "cell_type": "code",
      "source": [
        "#TASK 8\n",
        "class ParcelKoro:\n",
        "  def __init__(self,name=\"No name set\",product_weight=0):\n",
        "    self.name= name\n",
        "    self.product_weight = product_weight\n",
        "    self.total = 0\n",
        "    self.loc_charge = 0\n",
        "  def calculateFee(self,loc=None):\n",
        "    self.loc =loc\n",
        "    if loc != None:\n",
        "      self.loc_charge = 100\n",
        "    else:\n",
        "      self.loc_charge = 50\n",
        "    if self.product_weight == 0:\n",
        "      self.total = 0\n",
        "    else:\n",
        "      self.total = (self.product_weight * 20) + self.loc_charge\n",
        "\n",
        "  def printDetails(self):\n",
        "    print(f\"Customer Name: {self.name}\\nProduct Weight: {self.product_weight}\\nTotal fee: {self.total}\")\n",
        "\n",
        "\n",
        "\n",
        "\n",
        "# Write your code here.\n",
        "print(\"**********************\")\n",
        "p1 = ParcelKoro()\n",
        "p1.calculateFee()\n",
        "p1.printDetails()\n",
        "print(\"**********************\")\n",
        "p2 = ParcelKoro('Bob The Builder')\n",
        "p2.calculateFee()\n",
        "p2.printDetails()\n",
        "print(\"----------------------------\")\n",
        "p2.product_weight = 15\n",
        "p2.calculateFee()\n",
        "p2.printDetails()\n",
        "print(\"**********************\")\n",
        "p3 = ParcelKoro('Dora The Explorer', 10)\n",
        "p3.calculateFee('Dhanmondi')\n",
        "p3.printDetails()"
      ],
      "metadata": {
        "colab": {
          "base_uri": "https://localhost:8080/"
        },
        "id": "NaJGZgG8nJpY",
        "outputId": "08d66714-8db3-4dd7-9562-ae7fd4fe1051"
      },
      "execution_count": null,
      "outputs": [
        {
          "output_type": "stream",
          "name": "stdout",
          "text": [
            "**********************\n",
            "Customer Name: No name set\n",
            "Product Weight: 0\n",
            "Total fee: 0\n",
            "**********************\n",
            "Customer Name: Bob The Builder\n",
            "Product Weight: 0\n",
            "Total fee: 0\n",
            "----------------------------\n",
            "Customer Name: Bob The Builder\n",
            "Product Weight: 15\n",
            "Total fee: 350\n",
            "**********************\n",
            "Customer Name: Dora The Explorer\n",
            "Product Weight: 10\n",
            "Total fee: 300\n"
          ]
        }
      ]
    },
    {
      "cell_type": "code",
      "source": [
        "#Task 9\n",
        "class Batsman:\n",
        "  def __init__(self,*nums):\n",
        "    if type(nums[0])==str:\n",
        "      self.name= nums[0]\n",
        "      self.runs=nums[1]\n",
        "      self.balls=nums[2]\n",
        "    else:\n",
        "      self.name=\"New Batsman\"\n",
        "      self.runs=nums[0]\n",
        "      self.balls=nums[1]\n",
        "  def printCareerStatistics(self):\n",
        "    print(f\"Name: {self.name}\\nRuns Scored: {self.runs} , Balls Faced: {self.balls}\")\n",
        "  def battingStrikeRate(self):\n",
        "    return (self.runs/self.balls) * 100\n",
        "  def setName(self,name1):\n",
        "    self.name=name1\n",
        "\n",
        "\n",
        "\n",
        "# Write your code here\n",
        "b1 = Batsman(6101, 7380)\n",
        "b1.printCareerStatistics()\n",
        "print(\"============================\")\n",
        "b2 = Batsman(\"Liton Das\", 678, 773)\n",
        "b2.printCareerStatistics()\n",
        "print(\"----------------------------\")\n",
        "print(b2.battingStrikeRate())\n",
        "print(\"============================\")\n",
        "b1.setName(\"Shakib Al Hasan\")\n",
        "b1.printCareerStatistics()\n",
        "print(\"----------------------------\")\n",
        "print(b1.battingStrikeRate())"
      ],
      "metadata": {
        "colab": {
          "base_uri": "https://localhost:8080/"
        },
        "id": "ZN0_k3wzwKCw",
        "outputId": "5d9597d5-a7ba-44e1-8b74-f695a1ceb5c4"
      },
      "execution_count": null,
      "outputs": [
        {
          "output_type": "stream",
          "name": "stdout",
          "text": [
            "Name: New Batsman\n",
            "Runs Scored: 6101 , Balls Faced: 7380\n",
            "============================\n",
            "Name: Liton Das\n",
            "Runs Scored: 678 , Balls Faced: 773\n",
            "----------------------------\n",
            "87.71021992238033\n",
            "============================\n",
            "Name: Shakib Al Hasan\n",
            "Runs Scored: 6101 , Balls Faced: 7380\n",
            "----------------------------\n",
            "82.66937669376694\n"
          ]
        }
      ]
    },
    {
      "cell_type": "code",
      "source": [
        "#Task 10\n",
        "class EPL_Team:\n",
        "  def __init__(self,name,song=\"No Slogan\",title=0):\n",
        "    self.name=name\n",
        "    self.song=song\n",
        "    self.title = title\n",
        "\n",
        "  def showClubInfo(self):\n",
        "    return (f\"Name: {self.name}\\nSong: {self.song}\\nTotal No of title: {self.title}\")\n",
        "\n",
        "  def increaseTitle(self):\n",
        "    self.title += 1\n",
        "\n",
        "  def changeSong(self,new_song):\n",
        "    self.song=new_song\n",
        "\n",
        "\n",
        "# Write your code here\n",
        "manu = EPL_Team('Manchester United', 'Glory Glory Man United')\n",
        "chelsea = EPL_Team('Chelsea')\n",
        "print('===================')\n",
        "print(manu.showClubInfo())\n",
        "print('##################')\n",
        "manu.increaseTitle()\n",
        "print(manu.showClubInfo())\n",
        "print('===================')\n",
        "print(chelsea.showClubInfo())\n",
        "chelsea.changeSong('Keep the blue flag flying high')\n",
        "print(chelsea.showClubInfo())"
      ],
      "metadata": {
        "colab": {
          "base_uri": "https://localhost:8080/"
        },
        "id": "1eSU1q7zDRIK",
        "outputId": "4b58d171-17fe-45ea-c374-f1a00220b91d"
      },
      "execution_count": null,
      "outputs": [
        {
          "output_type": "stream",
          "name": "stdout",
          "text": [
            "===================\n",
            "Name: Manchester United\n",
            "Song: Glory Glory Man United\n",
            "Total No of title: 0\n",
            "##################\n",
            "Name: Manchester United\n",
            "Song: Glory Glory Man United\n",
            "Total No of title: 1\n",
            "===================\n",
            "Name: Chelsea\n",
            "Song: No Slogan\n",
            "Total No of title: 0\n",
            "Name: Chelsea\n",
            "Song: Keep the blue flag flying high\n",
            "Total No of title: 0\n"
          ]
        }
      ]
    },
    {
      "cell_type": "code",
      "source": [
        "#Task 11\n",
        "class Author:\n",
        "  def __init__(self,name=\"Default\",*books1):\n",
        "    self.name=name\n",
        "    self.books=books1\n",
        "  def addBooks(self,*books2):\n",
        "    self.books=books2\n",
        "\n",
        "  def printDetails(self):\n",
        "    new= \"\\n\".join(self.books)\n",
        "    print(f\"Author Name: {self.name}\\n--------\\nList of Books: \\n{new}\")\n",
        "\n",
        "  def changeName(self,new_name):\n",
        "    self.name=new_name\n",
        "\n",
        "    \n",
        "# Write your code here\n",
        "auth1 = Author('Humayun Ahmed')\n",
        "auth1.addBooks('Deyal', 'Megher Opor Bari')\n",
        "auth1.printDetails()\n",
        "print('===================')\n",
        "auth2 = Author()\n",
        "print(auth2.name)\n",
        "auth2.changeName('Mario Puzo')\n",
        "auth2.addBooks('The Godfather', 'Omerta', 'The Sicilian')\n",
        "print('===================')\n",
        "auth2.printDetails()\n",
        "print('===================')\n",
        "auth3 = Author('Paolo Coelho', 'The Alchemist', 'The Fifth Mountain')\n",
        "auth3.printDetails()"
      ],
      "metadata": {
        "colab": {
          "base_uri": "https://localhost:8080/"
        },
        "id": "O8ujK3G5Gc6x",
        "outputId": "4ab4187b-3f04-494d-a19f-ddd0d13b304f"
      },
      "execution_count": null,
      "outputs": [
        {
          "output_type": "stream",
          "name": "stdout",
          "text": [
            "Author Name: Humayun Ahmed\n",
            "--------\n",
            "List of Books: \n",
            "Deyal\n",
            "Megher Opor Bari\n",
            "===================\n",
            "Default\n",
            "===================\n",
            "Author Name: Mario Puzo\n",
            "--------\n",
            "List of Books: \n",
            "The Godfather\n",
            "Omerta\n",
            "The Sicilian\n",
            "===================\n",
            "Author Name: Paolo Coelho\n",
            "--------\n",
            "List of Books: \n",
            "The Alchemist\n",
            "The Fifth Mountain\n"
          ]
        }
      ]
    },
    {
      "cell_type": "code",
      "source": [
        "#Task 12\n",
        "\n",
        "class TaxiLagbe:\n",
        "\n",
        "    def __init__(self, license, location):\n",
        "        self.license = license\n",
        "        self.loc = location\n",
        "        self.count = 0\n",
        "        self.passenger_list = []\n",
        "        self.ticket_list = []\n",
        "\n",
        "    def addPassenger(self, *info):\n",
        "        self.info = info\n",
        "        for i_info in self.info:\n",
        "            i_info = i_info.split(\"_\")\n",
        "            self.passenger_list.append(i_info[0])\n",
        "            print(f\"Dear {i_info[0]}! Welcome to TaxiLagbe.\")\n",
        "            self.ticket_list.append(int(i_info[1]))\n",
        "        self.count += 1\n",
        "\n",
        "    def printDetails(self):\n",
        "        print(f\"Trip info for Taxi number: {self.license}\\nThis taxi can cover only {self.loc} area.\\nTotal passengers: {self.count}\")\n",
        "        a = \"\"\n",
        "        for passenger in self.passenger_list:\n",
        "            a += passenger + \", \"\n",
        "        print(a[:-2])\n",
        "        total_cost = 0\n",
        "        for ticket in self.ticket_list:\n",
        "            total_cost += ticket\n",
        "        print(f\"\\nTotal collected fare: {total_cost} Taka\")\n",
        "\n",
        "taxi1 = TaxiLagbe('1010-01', 'Dhaka')\n",
        "print('-------------------------------')\n",
        "taxi1.addPassenger('Walker_100', 'Wood_200')\n",
        "taxi1.addPassenger('Matt_100')\n",
        "taxi1.addPassenger('Wilson_105')\n",
        "print('-------------------------------')\n",
        "taxi1.printDetails()\n",
        "print('-------------------------------')\n",
        "taxi1.addPassenger('Karen_200')\n",
        "print('-------------------------------')\n",
        "taxi1.printDetails()\n",
        "print('-------------------------------')\n",
        "taxi2 = TaxiLagbe('1010-02', 'Khulna')\n",
        "taxi2.addPassenger('Ronald_115')\n",
        "taxi2.addPassenger('Parker_215')\n",
        "print('-------------------------------')\n",
        "taxi2.printDetails()"
      ],
      "metadata": {
        "colab": {
          "base_uri": "https://localhost:8080/"
        },
        "id": "q5d6GBm7P4NT",
        "outputId": "97e34f9c-8eb5-4fc1-f064-f4f945c773b2"
      },
      "execution_count": null,
      "outputs": [
        {
          "output_type": "stream",
          "name": "stdout",
          "text": [
            "-------------------------------\n",
            "Dear Walker! Welcome to TaxiLagbe.\n",
            "Dear Wood! Welcome to TaxiLagbe.\n",
            "Dear Matt! Welcome to TaxiLagbe.\n",
            "Dear Wilson! Welcome to TaxiLagbe.\n",
            "-------------------------------\n",
            "Trip info for Taxi number: 1010-01\n",
            "This taxi can cover only Dhaka area.\n",
            "Total passengers: 3\n",
            "Walker, Wood, Matt, Wilson\n",
            "\n",
            "Total collected fare: 505 Taka\n",
            "-------------------------------\n",
            "Dear Karen! Welcome to TaxiLagbe.\n",
            "-------------------------------\n",
            "Trip info for Taxi number: 1010-01\n",
            "This taxi can cover only Dhaka area.\n",
            "Total passengers: 4\n",
            "Walker, Wood, Matt, Wilson, Karen\n",
            "\n",
            "Total collected fare: 705 Taka\n",
            "-------------------------------\n",
            "Dear Ronald! Welcome to TaxiLagbe.\n",
            "Dear Parker! Welcome to TaxiLagbe.\n",
            "-------------------------------\n",
            "Trip info for Taxi number: 1010-02\n",
            "This taxi can cover only Khulna area.\n",
            "Total passengers: 2\n",
            "Ronald, Parker\n",
            "\n",
            "Total collected fare: 330 Taka\n"
          ]
        }
      ]
    },
    {
      "cell_type": "code",
      "source": [
        "#Task 12 (MY OWN)\n",
        "class TaxiLagbe:\n",
        "  def __init__(self,license,location):\n",
        "    self.num = num\n",
        "    self.loc=location\n",
        "    self.temp= []\n",
        "    self.fare=0\n",
        "    self.count=0\n",
        "    self.names=[]\n",
        "  def addPassenger(self, *args):\n",
        "    for i in args:\n",
        "      self.count += 1\n",
        "      \n",
        "    if self.count <= 4:\n",
        "      for i in args:\n",
        "        print(f\"Dear{i[len(i)-4:1]}! Welcome to TaxiLagbe\")\n",
        "        self.temp.append(i)\n",
        "        a= in(i[len(i)-3:len(i)])\n",
        "        self.fare +=a\n",
        "\n",
        "    else:\n",
        "      print(\"Taxi full! No more passengers can be added\")\n",
        "\n",
        "  def printDetails:\n",
        "    print(f\"Trip info for taxi{self.num} in this taxi can cover only {self.loc} area.\\nTotal passengers: {len(self.temp}\\Passenger list:\")\n",
        "    for i in range(len(self.temp)):\n",
        "      \n",
        "\n",
        "\n",
        "taxi1 = TaxiLagbe('1010-01', 'Dhaka')\n",
        "print('-------------------------------')\n",
        "taxi1.addPassenger('Walker_100', 'Wood_200')\n",
        "taxi1.addPassenger('Matt_100')\n",
        "taxi1.addPassenger('Wilson_105')\n",
        "print('-------------------------------')\n",
        "taxi1.printDetails()\n",
        "print('-------------------------------')\n",
        "taxi1.addPassenger('Karen_200')\n",
        "print('-------------------------------')\n",
        "taxi1.printDetails()\n",
        "print('-------------------------------')\n",
        "taxi2 = TaxiLagbe('1010-02', 'Khulna')\n",
        "taxi2.addPassenger('Ronald_115')\n",
        "taxi2.addPassenger('Parker_215')\n",
        "print('-------------------------------')\n",
        "taxi2.printDetails()"
      ],
      "metadata": {
        "colab": {
          "base_uri": "https://localhost:8080/"
        },
        "id": "5w2O1VacReiO",
        "outputId": "664ecaf5-4f2d-40c1-d4a0-423b7dd0f6cd"
      },
      "execution_count": null,
      "outputs": [
        {
          "output_type": "stream",
          "name": "stdout",
          "text": [
            "-------------------------------\n",
            "Dear Walker! Welcome to TaxiLagbe.\n",
            "Dear Wood! Welcome to TaxiLagbe.\n",
            "Dear Matt! Welcome to TaxiLagbe.\n",
            "Dear Wilson! Welcome to TaxiLagbe.\n",
            "-------------------------------\n",
            "Trip info for Taxi Number: 1010-01\n",
            "This taxi can cover only Dhaka area.\n",
            "Total passengers: 4\n",
            "Passenger lists: \n",
            "\n",
            "Total collected fare: 505 Taka\n",
            "-------------------------------\n",
            "Dear Karen! Welcome to TaxiLagbe.\n",
            "-------------------------------\n",
            "Trip info for Taxi Number: 1010-01\n",
            "This taxi can cover only Dhaka area.\n",
            "Total passengers: 5\n",
            "Passenger lists: \n",
            "\n",
            "Total collected fare: 705 Taka\n",
            "-------------------------------\n",
            "Dear Ronald! Welcome to TaxiLagbe.\n",
            "Dear Parker! Welcome to TaxiLagbe.\n",
            "-------------------------------\n",
            "Trip info for Taxi Number: 1010-02\n",
            "This taxi can cover only Khulna area.\n",
            "Total passengers: 2\n",
            "Passenger lists: \n",
            "\n",
            "Total collected fare: 330 Taka\n"
          ]
        }
      ]
    },
    {
      "cell_type": "code",
      "source": [
        "list1=[\"Welcome\",\"To\",\"Tutorials\",\"Point\"]\n",
        "string1=\"\"\n",
        "print(string1.join(list1))\n",
        "string2= ''\n",
        "print(string2.join(list1))"
      ],
      "metadata": {
        "colab": {
          "base_uri": "https://localhost:8080/",
          "height": 305
        },
        "id": "8Qev8tPaShoB",
        "outputId": "6858c77d-5573-4de9-b59e-541757eceaab"
      },
      "execution_count": null,
      "outputs": [
        {
          "output_type": "stream",
          "name": "stdout",
          "text": [
            "WelcomeToTutorialsPoint\n"
          ]
        },
        {
          "output_type": "error",
          "ename": "AttributeError",
          "evalue": "ignored",
          "traceback": [
            "\u001b[0;31m---------------------------------------------------------------------------\u001b[0m",
            "\u001b[0;31mAttributeError\u001b[0m                            Traceback (most recent call last)",
            "\u001b[0;32m<ipython-input-1-7dd61f122f5b>\u001b[0m in \u001b[0;36m<module>\u001b[0;34m()\u001b[0m\n\u001b[1;32m      3\u001b[0m \u001b[0mprint\u001b[0m\u001b[0;34m(\u001b[0m\u001b[0mstring1\u001b[0m\u001b[0;34m.\u001b[0m\u001b[0mjoin\u001b[0m\u001b[0;34m(\u001b[0m\u001b[0mlist1\u001b[0m\u001b[0;34m)\u001b[0m\u001b[0;34m)\u001b[0m\u001b[0;34m\u001b[0m\u001b[0;34m\u001b[0m\u001b[0m\n\u001b[1;32m      4\u001b[0m \u001b[0mstring2\u001b[0m\u001b[0;34m=\u001b[0m\u001b[0;34m[\u001b[0m\u001b[0;34m'abc'\u001b[0m\u001b[0;34m]\u001b[0m\u001b[0;34m\u001b[0m\u001b[0;34m\u001b[0m\u001b[0m\n\u001b[0;32m----> 5\u001b[0;31m \u001b[0mprint\u001b[0m\u001b[0;34m(\u001b[0m\u001b[0mstring2\u001b[0m\u001b[0;34m.\u001b[0m\u001b[0mjoin\u001b[0m\u001b[0;34m(\u001b[0m\u001b[0mlist1\u001b[0m\u001b[0;34m)\u001b[0m\u001b[0;34m)\u001b[0m\u001b[0;34m\u001b[0m\u001b[0;34m\u001b[0m\u001b[0m\n\u001b[0m",
            "\u001b[0;31mAttributeError\u001b[0m: 'list' object has no attribute 'join'"
          ]
        }
      ]
    },
    {
      "cell_type": "code",
      "source": [
        "#Task 13\n",
        "class Account:\n",
        "  def __init__(self,name=\"Default Account\",balance=0.0):\n",
        "    self.name=name\n",
        "    self.balance=balance\n",
        "\n",
        "  def withdraw(self,amount):\n",
        "    if self.balance - amount >= 3071:\n",
        "      self.balance -= amount\n",
        "      print(f\"Withdraw successful! New balance is: {self.balance}\")\n",
        "    else:\n",
        "      print(\"Sorry, Withdraw unsuccessful! The account balance after deducting withdraw amount is equal to or less than minimum.\")  \n",
        "\n",
        "  def details(self):\n",
        "    return (f\"{self.name}\\n{self.balance}\")\n",
        "\n",
        "    \n",
        "\n",
        "\n",
        "# Write your code here\n",
        "a1 = Account()\n",
        "print(a1.details())\n",
        "print(\"------------------------\")\n",
        "a1.name = \"Oliver\"\n",
        "a1.balance = 10000.0\n",
        "print(a1.details())\n",
        "print(\"------------------------\")\n",
        "a2 = Account(\"Liam\")\n",
        "print(a2.details())\n",
        "print(\"------------------------\")\n",
        "a3 = Account(\"Noah\",400)\n",
        "print(a3.details())\n",
        "print(\"------------------------\")\n",
        "a1.withdraw(6930)\n",
        "print(\"------------------------\")\n",
        "a2.withdraw(600)\n",
        "print(\"------------------------\")\n",
        "a1.withdraw(6929)"
      ],
      "metadata": {
        "colab": {
          "base_uri": "https://localhost:8080/"
        },
        "id": "sKqdb5UpO7Mh",
        "outputId": "237eeee1-45d4-45fb-8c32-902a02c6e4db"
      },
      "execution_count": null,
      "outputs": [
        {
          "output_type": "stream",
          "name": "stdout",
          "text": [
            "Default Account\n",
            "0.0\n",
            "------------------------\n",
            "Oliver\n",
            "10000.0\n",
            "------------------------\n",
            "Liam\n",
            "0.0\n",
            "------------------------\n",
            "Noah\n",
            "400\n",
            "------------------------\n",
            "Sorry, Withdraw unsuccessful! The account balance after deducting withdraw amount is equal to or less than minimum.\n",
            "------------------------\n",
            "Sorry, Withdraw unsuccessful! The account balance after deducting withdraw amount is equal to or less than minimum.\n",
            "------------------------\n",
            "Withdraw successful! New balance is: 3071.0\n"
          ]
        }
      ]
    },
    {
      "cell_type": "code",
      "source": [
        "#Task 14\n",
        "class StudentDatabase:\n",
        "  def __init__(self,name,id,):\n",
        "    self.name =name\n",
        "    self.id=id\n",
        "\n",
        "  def calculateGPA(self,grades,session):\n",
        "    self.marks = grades\n",
        "    self.session=session\n",
        "    self.subs = []\n",
        "    self.cg = 0\n",
        "    self.final_gpa = 0\n",
        "    self.grades={}\n",
        "    for i in self.marks:\n",
        "      temp= i.split(\" \")\n",
        "      temp_sub=temp[0].strip(\":\")\n",
        "      (self.subs).append(temp_sub)\n",
        "      self.cg += float(temp[1])\n",
        "\n",
        "    self.final_gpa += (self.cg*3)/(len(self.marks)*3)\n",
        "    self.grades.update({self.session:{tuple(self.subs):self.final_gpa}})\n",
        "\n",
        "  def printDetails(self):\n",
        "    out = \"\\n\".join(self.subs)\n",
        "    print(f\"Name: {self.name}\\nID: {self.id}\\nCourses taken in {self.session}:\\n{out}\\nGPA: {self.final_gpa}\")\n",
        "\n",
        "\n",
        "\n",
        "\n",
        "\n",
        "\n",
        "\n",
        "\n",
        "# Write your code here\n",
        "# Do not change the following lines of code.\n",
        "s1 = StudentDatabase('Pietro', '10101222')\n",
        "s1.calculateGPA(['CSE230: 4.0', 'CSE220: 4.0', 'MAT110: 4.0'],\n",
        "'Summer2020')\n",
        "s1.calculateGPA(['CSE250: 3.7', 'CSE330: 4.0'], 'Summer2021')\n",
        "print(f'Grades for {s1.name}\\n{s1.grades}')\n",
        "print('------------------------------------------------------')\n",
        "s1.printDetails()\n",
        "s2 = StudentDatabase('Wanda', '10103332')\n",
        "s2.calculateGPA(['CSE111: 3.7', 'CSE260: 3.7', 'ENG101: 4.0'],\n",
        "'Summer2022')\n",
        "print('------------------------------------------------------')\n",
        "print(f'Grades for {s2.name}\\n{s2.grades}')\n",
        "print('------------------------------------------------------')\n",
        "s2.printDetails()"
      ],
      "metadata": {
        "id": "juq8V6NzTfPy",
        "colab": {
          "base_uri": "https://localhost:8080/"
        },
        "outputId": "fce4cbe6-cb11-456d-e956-1a31b71d5be5"
      },
      "execution_count": null,
      "outputs": [
        {
          "output_type": "stream",
          "name": "stdout",
          "text": [
            "Grades for Pietro\n",
            "{'Summer2021': {('CSE250', 'CSE330'): 3.85}}\n",
            "------------------------------------------------------\n",
            "Name: Pietro\n",
            "ID: 10101222\n",
            "Courses taken in Summer2021:\n",
            "CSE250\n",
            "CSE330\n",
            "GPA: 3.85\n",
            "------------------------------------------------------\n",
            "Grades for Wanda\n",
            "{'Summer2022': {('CSE111', 'CSE260', 'ENG101'): 3.8000000000000003}}\n",
            "------------------------------------------------------\n",
            "Name: Wanda\n",
            "ID: 10103332\n",
            "Courses taken in Summer2022:\n",
            "CSE111\n",
            "CSE260\n",
            "ENG101\n",
            "GPA: 3.8000000000000003\n"
          ]
        }
      ]
    },
    {
      "cell_type": "code",
      "source": [
        "a= \"abcd:\"\n",
        "print(a.strip(\":\"))"
      ],
      "metadata": {
        "colab": {
          "base_uri": "https://localhost:8080/"
        },
        "id": "TmwjtdBfj7JL",
        "outputId": "cf79adfe-9715-4c45-c42b-63d9d3ac6eba"
      },
      "execution_count": null,
      "outputs": [
        {
          "output_type": "stream",
          "name": "stdout",
          "text": [
            "abcd\n"
          ]
        }
      ]
    }
  ]
}
