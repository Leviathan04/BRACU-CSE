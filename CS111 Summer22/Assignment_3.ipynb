{
  "nbformat": 4,
  "nbformat_minor": 0,
  "metadata": {
    "colab": {
      "name": "CSE111 Assignment 3.ipynb",
      "provenance": [],
      "collapsed_sections": []
    },
    "kernelspec": {
      "name": "python3",
      "display_name": "Python 3"
    },
    "language_info": {
      "name": "python"
    }
  },
  "cells": [
    {
      "cell_type": "code",
      "execution_count": null,
      "metadata": {
        "id": "sG7GOnatP_Xf",
        "colab": {
          "base_uri": "https://localhost:8080/"
        },
        "outputId": "13fad396-9b3f-436e-ca38-41bcbd145e96"
      },
      "outputs": [
        {
          "output_type": "stream",
          "name": "stdout",
          "text": [
            "Please enter the first value: 1\n",
            "Please enter the operator: +\n",
            "Please enter the second value: 3\n",
            "Let's Calculate!\n",
            "Value 1: 1 \n",
            "Operator: + \n",
            "Value 2: 3\n",
            "Result: 4\n"
          ]
        }
      ],
      "source": [
        "#TASK 1 \n",
        "\n",
        "class calculator:\n",
        "  def __init__(self,val,op,val2):\n",
        "    self.val1=val\n",
        "    self.op=op\n",
        "    self.val2=val2\n",
        "    print(\"Let's Calculate!\")\n",
        "\n",
        "  def add(self):\n",
        "    res1 =self.val1 + self.val2\n",
        "    return res1\n",
        "  \n",
        "  def subtract(self):\n",
        "    res2=self.val1 - self.val2\n",
        "    return res2\n",
        "  \n",
        "  def multiply(self):\n",
        "    res3=self.val1 * self.val2\n",
        "    return res3\n",
        "  \n",
        "  def divide(self):\n",
        "    res4=self.val1 / self.val2\n",
        "    return res4\n",
        "\n",
        "  def details(self):\n",
        "    out = (f\"Value 1: {self.val1} \\nOperator: {self.op} \\nValue 2: {self.val2}\")\n",
        "    if op==\"+\":\n",
        "      print(f\"{out}\\nResult: {self.add()}\")\n",
        "    elif op==\"-\":\n",
        "      print(f\"{out}\\nResult: {self.subtract()}\")\n",
        "    elif op==\"*\":\n",
        "      print(f\"{out}\\nResult: {self.multiply()}\")\n",
        "    elif op==\"/\":\n",
        "      print(f\"{out}\\nResult: {self.divide()}\")\n",
        "\n",
        "first_val=int(input(\"Please enter the first value: \"))\n",
        "op=input(\"Please enter the operator: \")\n",
        "sec_val=int(input(\"Please enter the second value: \"))\n",
        "\n",
        "ans=calculator(first_val,op,sec_val)\n",
        "ans.details()"
      ]
    },
    {
      "cell_type": "code",
      "source": [
        "#Task 2 \n",
        "\n",
        "class Course:\n",
        "  def __init__(self,course_name, faculty, section):\n",
        "    self.course_name=course_name\n",
        "    self.faculty = faculty\n",
        "    self.section=section\n",
        "  def detail(self):\n",
        "    print(f\"{self.course_name} - {self.faculty} - {self.section}\")\n",
        "\n",
        "\n",
        "c1 = Course(\"CSE110\", \"TBA\", 8)\n",
        "c1.detail()\n",
        "print(\"===============\")\n",
        "c2 = Course(\"CSE111\", \"TBA\", 9)\n",
        "c2.detail()"
      ],
      "metadata": {
        "colab": {
          "base_uri": "https://localhost:8080/"
        },
        "id": "qIpK845oS0wA",
        "outputId": "7e16892b-a0b1-448a-a250-fc36605e33f8"
      },
      "execution_count": null,
      "outputs": [
        {
          "output_type": "stream",
          "name": "stdout",
          "text": [
            "CSE110 - TBA - 8\n",
            "===============\n",
            "CSE111 - TBA - 9\n"
          ]
        }
      ]
    },
    {
      "cell_type": "code",
      "source": [
        "#TASK 3\n",
        "\n",
        "class Patient:\n",
        "  def __init__(self,name,age,weight,height):\n",
        "    self.name=name\n",
        "    self.age=age\n",
        "    self.weight=weight\n",
        "    self.height=height\n",
        "    self.bmi = self.weight/((self.height/100)**2)\n",
        "  def printDetails(self):\n",
        "    print(f\"Name: {self.name} \\nAge: {self.age} \\nWeight: {self.weight} \\nHeight: {self.height} \\nBMI: {self.bmi}\")\n",
        "\n",
        "\n",
        "p1 = Patient(\"A\", 55, 63.0, 158.0)\n",
        "p1.printDetails()\n",
        "print(\"====================\")\n",
        "p2 = Patient(\"B\", 53, 61.0, 149.0)\n",
        "p2.printDetails()"
      ],
      "metadata": {
        "colab": {
          "base_uri": "https://localhost:8080/"
        },
        "id": "VUiWXbWzUcAP",
        "outputId": "448e9894-ab0b-44c7-c4ff-df29cfee88b9"
      },
      "execution_count": null,
      "outputs": [
        {
          "output_type": "stream",
          "name": "stdout",
          "text": [
            "Name: A \n",
            "Age: 55 \n",
            "Weight: 63.0 \n",
            "Height: 158.0 \n",
            "BMI: 25.236340330075304\n",
            "====================\n",
            "Name: B \n",
            "Age: 53 \n",
            "Weight: 61.0 \n",
            "Height: 149.0 \n",
            "BMI: 27.476239809017613\n"
          ]
        }
      ]
    },
    {
      "cell_type": "code",
      "source": [
        "#TASK 4\n",
        "\n",
        "class Vehicle:\n",
        "  def __init__(self):\n",
        "    self.x = 0\n",
        "    self.y = 0\n",
        " \n",
        "  def moveUp(self):\n",
        "    self.y +=1\n",
        "  def moveLeft(self):\n",
        "    self.x -= 1\n",
        "\n",
        "  def moveDown(self):\n",
        "    self.y -= 1\n",
        "  def moveRight(self):\n",
        "    self.x += 1\n",
        "\n",
        "  def print_position(self):\n",
        "    print(tuple([self.x,self.y]))\n",
        "\n",
        "car = Vehicle()\n",
        "car.print_position()\n",
        "car.moveUp()\n",
        "car.print_position()\n",
        "car.moveLeft()\n",
        "car.print_position()\n",
        "car.moveDown()\n",
        "car.print_position()\n",
        "car.moveRight()"
      ],
      "metadata": {
        "colab": {
          "base_uri": "https://localhost:8080/"
        },
        "id": "4dMeAKmNZ2Vz",
        "outputId": "1ab66e3a-e16a-4c9f-c121-c7c5099a59ae"
      },
      "execution_count": null,
      "outputs": [
        {
          "output_type": "stream",
          "name": "stdout",
          "text": [
            "(0, 0)\n",
            "(0, 1)\n",
            "(-1, 1)\n",
            "(-1, 0)\n"
          ]
        }
      ]
    },
    {
      "cell_type": "code",
      "source": [
        "#TASK 5\n",
        "\n",
        "class Shape:\n",
        "  def __init__(self,shape,a,b):\n",
        "    self.shape=shape\n",
        "    self.a = a\n",
        "    self.b = b\n",
        "  def area(self):\n",
        "    if self.shape==\"Triangle\" or self.shape==\"Rhombus\":\n",
        "      self.area= 0.5* self.a * self.b\n",
        "    elif self.shape == \"Square\" or self.shape==\"Rectangle\":\n",
        "      self.area = self.a* self.b\n",
        "    else:\n",
        "      self.area = \"Shape unknown\"\n",
        "\n",
        "    print(\"Area:\", self.area)\n",
        "triangle = Shape(\"Triangle\",10,25)\n",
        "triangle.area()\n",
        "print(\"==========================\")\n",
        "square = Shape(\"Square\",10,10)\n",
        "square.area()\n",
        "print(\"==========================\")\n",
        "rhombus = Shape(\"Rhombus\",18,25)\n",
        "rhombus.area()\n",
        "print(\"==========================\")\n",
        "rectangle = Shape(\"Rectangle\",15,30)\n",
        "rectangle.area()\n",
        "print(\"==========================\")\n",
        "trapezium = Shape(\"Trapezium\",15,30)\n",
        "trapezium.area()"
      ],
      "metadata": {
        "colab": {
          "base_uri": "https://localhost:8080/"
        },
        "id": "2CxDaIWViafN",
        "outputId": "48744038-5286-4c17-ff11-3ad61b5f52fc"
      },
      "execution_count": null,
      "outputs": [
        {
          "output_type": "stream",
          "name": "stdout",
          "text": [
            "Area: 125.0\n",
            "==========================\n",
            "Area: 100\n",
            "==========================\n",
            "Area: 225.0\n",
            "==========================\n",
            "Area: 450\n",
            "==========================\n",
            "Area: Shape unknown\n"
          ]
        }
      ]
    },
    {
      "cell_type": "code",
      "source": [
        "#TASK 6\n",
        "\n",
        "class Calculator():\n",
        "  def __init__(self):\n",
        "    self.v1 = 0\n",
        "    self.v2=0\n",
        "    self.out=0\n",
        "    self.operator = ''\n",
        "    print(\"Calculator is ready!\")\n",
        "  def calculate(self,v1,v2,operator):\n",
        "\n",
        "    if operator==\"+\":\n",
        "      self.out= v1 + v2\n",
        "      return v1 + v2\n",
        "\n",
        "    elif operator==\"-\":\n",
        "      \n",
        "      self.out = v1 - v2\n",
        "      return v1 - v2\n",
        "    \n",
        "    elif operator==\"*\":\n",
        "      self.out = v1 * v2\n",
        "      return v1 * v2\n",
        "\n",
        "    elif operator==\"/\":\n",
        "      self.out = v1 / v2\n",
        "    print(\"Returned value: \", self.out)\n",
        "\n",
        "  def showCalculation(self):\n",
        "    print(f\"{self.v1}{self.operator}{self.v2} = {self.out}\")\n",
        "\n",
        "\n",
        "c1 = Calculator()\n",
        "print(\"==================\")\n",
        "val = c1.calculate(10, 20, '+')\n",
        "print(\"Returned value:\", val)\n",
        "c1.showCalculation()\n",
        "print(\"==================\")\n",
        "val = c1.calculate(val, 10, '-')\n",
        "print(\"Returned value:\", val)\n",
        "c1.showCalculation()\n",
        "print(\"==================\")\n",
        "val = c1.calculate(val, 5, '*')\n",
        "print(\"Returned value:\", val)\n",
        "c1.showCalculation()\n",
        "print(\"==================\")\n",
        "val = c1.calculate(val, 16, '/')\n",
        "print(\"Returned value:\", val)\n",
        "c1.showCalculation()"
      ],
      "metadata": {
        "colab": {
          "base_uri": "https://localhost:8080/"
        },
        "id": "q6UK5UJAm5aU",
        "outputId": "01350f70-47af-4993-b6f3-f8228c956f5c"
      },
      "execution_count": null,
      "outputs": [
        {
          "output_type": "stream",
          "name": "stdout",
          "text": [
            "Calculator is ready!\n",
            "==================\n",
            "Returned value: 30\n",
            "00 = 30\n",
            "==================\n",
            "Returned value: 20\n",
            "00 = 20\n",
            "==================\n",
            "Returned value: 100\n",
            "00 = 100\n",
            "==================\n",
            "Returned value:  6.25\n",
            "Returned value: None\n",
            "00 = 6.25\n"
          ]
        }
      ]
    },
    {
      "cell_type": "code",
      "source": [
        "#TASK 6  Works properly \n",
        "class Calculator:\n",
        "  def __init__(self):\n",
        "    self.value1=0\n",
        "    self.value2=0\n",
        "    self.operator=''\n",
        "    self.result=0\n",
        "    print(\"Calculator is ready!\")\n",
        "\n",
        "  def calculate(self,value1,value2,operator):\n",
        "    self.value1=value1\n",
        "    self.value2=value2\n",
        "    self.operator=operator   \n",
        "    if self.operator==\"+\":\n",
        "      self.result=value1 + value2\n",
        "      return(self.result)\n",
        "    elif self.operator==\"-\":\n",
        "      self.result=(value1 - value2)\n",
        "      return (self.result)\n",
        "    elif self.operator==\"*\":\n",
        "      self.result=(value1 * value2)\n",
        "      return(self.result)\n",
        "    elif self.operator==\"/\":\n",
        "      self.result=(value1 / value2)\n",
        "      return (self.result)\n",
        "  def showCalculation(self):\n",
        "      # print(f\"Returned value: {value1}{oparetor}{value2}=\")\n",
        "      print(f\" {self.value1}{self.operator}{self.value2} = {self.result}\")\n",
        "c1 = Calculator()\n",
        "print(\"==================\")\n",
        "val = c1.calculate(10, 20, '+')\n",
        "print(\"Returned value:\", val)\n",
        "c1.showCalculation()\n",
        "print(\"==================\")\n",
        "val = c1.calculate(val, 10, '-')\n",
        "print(\"Returned value:\", val)\n",
        "c1.showCalculation()\n",
        "print(\"==================\")\n",
        "val = c1.calculate(val, 5, '*')\n",
        "print(\"Returned value:\", val)\n",
        "c1.showCalculation()\n",
        "print(\"==================\")\n",
        "val = c1.calculate(val, 16, '/')\n",
        "print(\"Returned value:\", val)\n",
        "c1.showCalculation()"
      ],
      "metadata": {
        "colab": {
          "base_uri": "https://localhost:8080/"
        },
        "id": "Uv422y5wx5FI",
        "outputId": "9fa296d5-f2c0-4aca-9937-28db445cfe37"
      },
      "execution_count": null,
      "outputs": [
        {
          "output_type": "stream",
          "name": "stdout",
          "text": [
            "Calculator is ready!\n",
            "==================\n",
            "Returned value: 30\n",
            " 10+20 = 30\n",
            "==================\n",
            "Returned value: 20\n",
            " 30-10 = 20\n",
            "==================\n",
            "Returned value: 100\n",
            " 20*5 = 100\n",
            "==================\n",
            "Returned value: 6.25\n",
            " 100/16 = 6.25\n"
          ]
        }
      ]
    },
    {
      "cell_type": "code",
      "source": [
        "#TASK 7\n",
        "class Student:\n",
        "  def __init__(self,name,id,dept,marks):\n",
        "    self.name= name\n",
        "    self.id = id\n",
        "    self.dept = dept\n",
        "    self.marks = marks\n",
        "\n",
        "  def calculate_CGPA(self):\n",
        "    sum=0\n",
        "      \n",
        "    for i in self.marks:\n",
        "      sum += float(i)*3\n",
        "      \n",
        "    self.cgpa = float(sum/(len(self.marks)*3))\n",
        "    self.remarks = ''\n",
        "    \n",
        "    if self.cgpa >= 3.80:\n",
        "      self.remarks = 'Highest Distinction'\n",
        "    elif self.cgpa >= 3.65:\n",
        "      self.remarks = 'High Distinction'\n",
        "\n",
        "    elif self.cgpa >= 3.5:\n",
        "      self.remarks = \"Distinction\"\n",
        "\n",
        "    elif self.cgpa >= 2.00:\n",
        "      self.remarks = 'Satisfactory'\n",
        "\n",
        "  def print_details(self):\n",
        "    if self.cgpa>=2:\n",
        "      print(f\"Name: {self.name}, ID: {self.id}\\nDepartment: {self.dept}\\nCGPA : {self.cgpa }\\nYour academic standing is '{self.remarks}'\")\n",
        "    elif self.cgpa <2:\n",
        "      print(f\"Name: {self.name}, ID: {self.id}\\nDepartment: {self.dept}\\nCGPA : {self.cgpa }\\nSorry, you cannot graduate\" )\n",
        "\n",
        "\n",
        "s1 = Student('Dora', '15995599','CSE', [4,3.7,3.7,4])\n",
        "s1.calculate_CGPA()\n",
        "print(\"==========================\")\n",
        "s1.print_details()\n",
        "print(\"==========================\")\n",
        "s2 = Student('Pingu', '12312322', 'EEE', [1.7,1.3,1.3,1.3,1])\n",
        "s2.calculate_CGPA()\n",
        "print(\"==========================\")\n",
        "s2.print_details()\n",
        "print(\"==========================\")\n",
        "s3 = Student('Bob', '13311331', 'CSE', [2,3,3,3.7,2.7,2.7])\n",
        "s3.calculate_CGPA()\n",
        "print(\"==========================\")\n",
        "s3.print_details()"
      ],
      "metadata": {
        "colab": {
          "base_uri": "https://localhost:8080/"
        },
        "id": "l5xtGdxuibbi",
        "outputId": "9d16fd01-87ef-4e65-f6f0-95e95a64c953"
      },
      "execution_count": null,
      "outputs": [
        {
          "output_type": "stream",
          "name": "stdout",
          "text": [
            "==========================\n",
            "Name: Dora, ID: 15995599\n",
            "Department: CSE\n",
            "CGPA : 3.85\n",
            "Your academic standing is 'Highest Distinction'\n",
            "==========================\n",
            "==========================\n",
            "Name: Pingu, ID: 12312322\n",
            "Department: EEE\n",
            "CGPA : 1.32\n",
            "Sorry, you cannot graduate\n",
            "==========================\n",
            "==========================\n",
            "Name: Bob, ID: 13311331\n",
            "Department: CSE\n",
            "CGPA : 2.85\n",
            "Your academic standing is 'Satisfactory'\n"
          ]
        }
      ]
    },
    {
      "cell_type": "code",
      "source": [
        "#TASK 8\n",
        "class Shinobi:\n",
        "  def __init__(self, name, rank):\n",
        "    self.name = name\n",
        "    self.rank = rank\n",
        "    self.mission=0\n",
        "    self.salary = 0\n",
        "  def calSalary(self,mission):\n",
        "    self.mission = mission\n",
        "\n",
        "    if self.rank == \"Genin\":\n",
        "      self.salary += (self.mission*50)\n",
        "    elif self.rank == \"Chunin\":\n",
        "      self.salary += (self.mission*100)\n",
        "\n",
        "    else:\n",
        "      self.salary+= (self.mission*500)\n",
        "  def changeRank(self,rank2):\n",
        "    self.rank = rank2\n",
        "\n",
        "  def printInfo(self):\n",
        "    print(f\"Name: {self.name}\\nRank: {self.rank}\\nNumber of mission: {self.mission}\\nSalary: {self.salary} \")\n",
        "                \n",
        "\n",
        "\n",
        "naruto = Shinobi(\"Naruto\", \"Genin\")\n",
        "naruto.calSalary(5)\n",
        "naruto.printInfo()\n",
        "print('====================')\n",
        "shikamaru = Shinobi('Shikamaru', \"Genin\")\n",
        "shikamaru.printInfo()\n",
        "shikamaru.changeRank(\"Chunin\")\n",
        "shikamaru.calSalary(10)\n",
        "shikamaru.printInfo()\n",
        "print('====================')\n",
        "neiji = Shinobi(\"Neiji\", \"Jonin\")\n",
        "neiji.calSalary(5)\n",
        "neiji.printInfo()"
      ],
      "metadata": {
        "colab": {
          "base_uri": "https://localhost:8080/"
        },
        "id": "4GJLsoPFtdYl",
        "outputId": "d28bdb7e-239e-4fe9-8d9a-68027b86ac02"
      },
      "execution_count": null,
      "outputs": [
        {
          "output_type": "stream",
          "name": "stdout",
          "text": [
            "Name: Naruto\n",
            "Rank: Genin\n",
            "Number of mission: 5\n",
            "Salary: 250 \n",
            "====================\n",
            "Name: Shikamaru\n",
            "Rank: Genin\n",
            "Number of mission: 0\n",
            "Salary: 0 \n",
            "Name: Shikamaru\n",
            "Rank: Chunin\n",
            "Number of mission: 10\n",
            "Salary: 1000 \n",
            "====================\n",
            "Name: Neiji\n",
            "Rank: Jonin\n",
            "Number of mission: 5\n",
            "Salary: 2500 \n"
          ]
        }
      ]
    },
    {
      "cell_type": "code",
      "source": [
        "#TASK 9\n",
        "class Programmer:\n",
        "  def __init__(self,name,lang,exp):\n",
        "    print(\"Horray! A new programmer is born\")\n",
        "    self.name = name\n",
        "    self.lang=lang\n",
        "    self.exp = exp\n",
        "    \n",
        "  def addExp(self,num):\n",
        "    self.exp = self.exp+num\n",
        "    print(\"Updating experience of Jon Snow\")\n",
        "    \n",
        "\n",
        "  def printDetails(self):\n",
        "    print(f\"Name: {self.name}\\nLanguage: {self.lang}\\nExperience: {self.exp} years\")\n",
        "\n",
        "p1 = Programmer(\"Ethen Hunt\", \"Java\", 10)\n",
        "p1.printDetails()\n",
        "print('--------------------------')\n",
        "p2 = Programmer(\"James Bond\", \"C++\", 7)\n",
        "p2.printDetails()\n",
        "print('--------------------------')\n",
        "p3 = Programmer(\"Jon Snow\", \"Python\", 4)\n",
        "p3.printDetails()\n",
        "p3.addExp(5)\n",
        "p3.printDetails()"
      ],
      "metadata": {
        "colab": {
          "base_uri": "https://localhost:8080/"
        },
        "id": "6fR0k5hEuvHc",
        "outputId": "590f87d6-c7df-4651-e068-fd1db2bba513"
      },
      "execution_count": null,
      "outputs": [
        {
          "output_type": "stream",
          "name": "stdout",
          "text": [
            "Horray! A new programmer is born\n",
            "Name: Ethen Hunt\n",
            "Language: Java\n",
            "Experience: 10 years\n",
            "--------------------------\n",
            "Horray! A new programmer is born\n",
            "Name: James Bond\n",
            "Language: C++\n",
            "Experience: 7 years\n",
            "--------------------------\n",
            "Horray! A new programmer is born\n",
            "Name: Jon Snow\n",
            "Language: Python\n",
            "Experience: 4 years\n",
            "Updating experience of Jon Snow\n",
            "Name: Jon Snow\n",
            "Language: Python\n",
            "Experience: 9 years\n"
          ]
        }
      ]
    },
    {
      "cell_type": "code",
      "source": [
        "#TASK 10\n",
        "\n",
        "class UberEats:\n",
        "  def __init__(self,name,num,loc):\n",
        "    self.name=name\n",
        "    self.num = num\n",
        "    self.loc =loc\n",
        "    print(f\"{self.name}, welcome to UberEats!\")\n",
        "    self.dict1={}\n",
        "\n",
        "  def add_items(self,item1,item2,cost1,cost2):\n",
        "    self.i1 = item1\n",
        "    self.i2 = item2\n",
        "    self.c1 = cost1\n",
        "    self.c2 = cost2\n",
        "    self.total = self.c1 +self.c2\n",
        "  def print_order_detail(self):\n",
        "    self.dict1=dict({self.i1:self.c1, self.i2:self.c2})\n",
        "    print(f\"User details: Name: {self.name} Phone: \\n{self.num}, Address: {self.loc}\\nOrders: {self.dict1}\\nTotal Paid Amount: {self.total}\")\n",
        "\n",
        "\n",
        "\n",
        "order1 = UberEats(\"Shakib\", \"01719658xxx\", \"Mohakhali\")\n",
        "print(\"=========================\")\n",
        "order1.add_items(\"Burger\", \"Coca Cola\", 220, 50)\n",
        "print(\"=========================\")\n",
        "print(order1.print_order_detail())\n",
        "print(\"=========================\")\n",
        "order2 = UberEats (\"Siam\", \"01719659xxx\", \"Uttara\")\n",
        "print(\"=========================\")\n",
        "order2.add_items(\"Pineapple\", \"Dairy Milk\", 80, 70)\n",
        "print(\"=========================\")\n",
        "print(order2.print_order_detail())"
      ],
      "metadata": {
        "colab": {
          "base_uri": "https://localhost:8080/"
        },
        "id": "wATETNIg3uft",
        "outputId": "07760ee5-bbbe-4b1f-9756-88808c851646"
      },
      "execution_count": null,
      "outputs": [
        {
          "output_type": "stream",
          "name": "stdout",
          "text": [
            "Shakib, welcome to UberEats!\n",
            "=========================\n",
            "=========================\n",
            "User details: Name: Shakib Phone: \n",
            "01719658xxx, Address: Mohakhali\n",
            "Orders: {'Burger': 220, 'Coca Cola': 50}\n",
            "Total Paid Amount: 270\n",
            "None\n",
            "=========================\n",
            "Siam, welcome to UberEats!\n",
            "=========================\n",
            "=========================\n",
            "User details: Name: Siam Phone: \n",
            "01719659xxx, Address: Uttara\n",
            "Orders: {'Pineapple': 80, 'Dairy Milk': 70}\n",
            "Total Paid Amount: 150\n",
            "None\n"
          ]
        }
      ]
    },
    {
      "cell_type": "code",
      "source": [
        "#Task 11\n",
        "class Spotify:\n",
        "  def __init__(self, list1):\n",
        "    self.list1 = list1\n",
        "    print(\"Welcome to Spotify!\")\n",
        "  def playing_number(self, num):\n",
        "    if num>len(self.list1):\n",
        "      print(f\"{num} number song not found. Your playlist has {len(self.list1)} songs only.\")\n",
        "    else:\n",
        "       print(f\"##########################\\nPlaying {num} number song for you\\nSong Name: {self.list1[num-1]}\")\n",
        "    \n",
        "  def add_to_playlist(self, song):\n",
        "    self.list1.append(song)\n",
        "# Write your code here\n",
        "user1 = Spotify([\"See You Again\", \"Uptown Funk\", \"Hello\"])\n",
        "print(\"=========================\")\n",
        "print(user1.playing_number(4))\n",
        "user1.add_to_playlist(\"Dusk Till Dawn\")\n",
        "print(user1.playing_number(3))\n",
        "print(user1.playing_number(4))"
      ],
      "metadata": {
        "colab": {
          "base_uri": "https://localhost:8080/"
        },
        "id": "tYm0pnJssHsu",
        "outputId": "82f7a6fd-379d-4e6f-8505-63d017a24aaf"
      },
      "execution_count": null,
      "outputs": [
        {
          "output_type": "stream",
          "name": "stdout",
          "text": [
            "Welcome to Spotify!\n",
            "=========================\n",
            "4 number song not found. Your playlist has 3 songs only.\n",
            "None\n",
            "##########################\n",
            "Playing 3 number song for you\n",
            "Song Name: Hello\n",
            "None\n",
            "##########################\n",
            "Playing 4 number song for you\n",
            "Song Name: Dusk Till Dawn\n",
            "None\n"
          ]
        }
      ]
    }
  ]
}